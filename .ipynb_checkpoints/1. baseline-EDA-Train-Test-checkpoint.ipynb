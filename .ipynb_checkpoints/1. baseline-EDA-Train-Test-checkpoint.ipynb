{
 "cells": [
  {
   "cell_type": "code",
   "execution_count": 1,
   "metadata": {},
   "outputs": [],
   "source": [
    "import pandas as pd\n",
    "import numpy as np\n",
    "\n",
    "from sklearn.base import BaseEstimator, TransformerMixin\n",
    "\n",
    "import warnings\n",
    "warnings.simplefilter(action='ignore', category=FutureWarning)\n",
    "warnings.filterwarnings('ignore')\n",
    "\n",
    "from datetime import date\n",
    "\n",
    "from sklearn.model_selection import KFold, train_test_split, StratifiedKFold, cross_val_score, GridSearchCV\n",
    "from sklearn.pipeline import Pipeline\n",
    "from sklearn.linear_model import SGDClassifier, LogisticRegression\n",
    "from sklearn.preprocessing import StandardScaler, LabelEncoder, MinMaxScaler\n",
    "from sklearn.metrics import log_loss, roc_auc_score, auc, roc_curve\n",
    "from sklearn.preprocessing import MinMaxScaler\n",
    "\n",
    "# display for this notebook\n",
    "%matplotlib inline\n",
    "%config InlineBackend.figure_format = 'retina'"
   ]
  },
  {
   "cell_type": "code",
   "execution_count": 2,
   "metadata": {},
   "outputs": [
    {
     "data": {
      "text/plain": [
       "'/Users/Bin/repos/competitions/O2O-Coupon-Usage-Forecast'"
      ]
     },
     "execution_count": 2,
     "metadata": {},
     "output_type": "execute_result"
    }
   ],
   "source": [
    "import os\n",
    "os.getcwd()"
   ]
  },
  {
   "cell_type": "code",
   "execution_count": 3,
   "metadata": {},
   "outputs": [],
   "source": [
    "# import data\n",
    "dfoff = pd.read_csv('../../ml-datasets/O2O-Coupon-Usage-Forecast/ccf_offline_stage1_train.csv')\n",
    "dfon = pd.read_csv('../../ml-datasets/O2O-Coupon-Usage-Forecast/ccf_online_stage1_train.csv')\n",
    "dftest = pd.read_csv('../../ml-datasets/O2O-Coupon-Usage-Forecast/ccf_offline_stage1_test_revised.csv')"
   ]
  },
  {
   "cell_type": "code",
   "execution_count": 4,
   "metadata": {},
   "outputs": [],
   "source": [
    "# 获取目标属性，通过发放优惠券有没有得到转化设置正负样本\n",
    "dfoff['label'] = 0\n",
    "dfoff.loc[(dfoff['Date_received'].notna()) & (dfoff['Date'].notna()), 'label'] = 1\n",
    "\n",
    "# 测试集中没有 Data 相关字段，暂且删去\n",
    "dfoff.drop('Date', axis=1, inplace=True)\n",
    "\n",
    "# 拆分线下数据成训练集和测试集\n",
    "train_off, test_off = train_test_split(dfoff, test_size=0.2, random_state=42)"
   ]
  },
  {
   "cell_type": "markdown",
   "metadata": {},
   "source": [
    "## 1. 探索数据\n",
    "### 1.1 离线数据\n",
    "#### 1.1.1 离线数据概览"
   ]
  },
  {
   "cell_type": "code",
   "execution_count": 21,
   "metadata": {},
   "outputs": [
    {
     "name": "stdout",
     "output_type": "stream",
     "text": [
      "<class 'pandas.core.frame.DataFrame'>\n",
      "RangeIndex: 1754884 entries, 0 to 1754883\n",
      "Data columns (total 7 columns):\n",
      "User_id          int64\n",
      "Merchant_id      int64\n",
      "Coupon_id        float64\n",
      "Discount_rate    object\n",
      "Distance         float64\n",
      "Date_received    float64\n",
      "Date             float64\n",
      "dtypes: float64(4), int64(2), object(1)\n",
      "memory usage: 93.7+ MB\n"
     ]
    }
   ],
   "source": [
    "dfoff.info()\n",
    "# 离线数据一共七列数据，三个 ID 类特征，两个日期类数据，一个字符串，一个连续型数据"
   ]
  },
  {
   "cell_type": "code",
   "execution_count": 22,
   "metadata": {},
   "outputs": [
    {
     "data": {
      "text/html": [
       "<div>\n",
       "<style scoped>\n",
       "    .dataframe tbody tr th:only-of-type {\n",
       "        vertical-align: middle;\n",
       "    }\n",
       "\n",
       "    .dataframe tbody tr th {\n",
       "        vertical-align: top;\n",
       "    }\n",
       "\n",
       "    .dataframe thead th {\n",
       "        text-align: right;\n",
       "    }\n",
       "</style>\n",
       "<table border=\"1\" class=\"dataframe\">\n",
       "  <thead>\n",
       "    <tr style=\"text-align: right;\">\n",
       "      <th></th>\n",
       "      <th>User_id</th>\n",
       "      <th>Merchant_id</th>\n",
       "      <th>Coupon_id</th>\n",
       "      <th>Discount_rate</th>\n",
       "      <th>Distance</th>\n",
       "      <th>Date_received</th>\n",
       "      <th>Date</th>\n",
       "    </tr>\n",
       "  </thead>\n",
       "  <tbody>\n",
       "    <tr>\n",
       "      <th>1592552</th>\n",
       "      <td>2976377</td>\n",
       "      <td>760</td>\n",
       "      <td>NaN</td>\n",
       "      <td>NaN</td>\n",
       "      <td>0.0</td>\n",
       "      <td>NaN</td>\n",
       "      <td>20160319.0</td>\n",
       "    </tr>\n",
       "    <tr>\n",
       "      <th>21371</th>\n",
       "      <td>1953986</td>\n",
       "      <td>3939</td>\n",
       "      <td>NaN</td>\n",
       "      <td>NaN</td>\n",
       "      <td>7.0</td>\n",
       "      <td>NaN</td>\n",
       "      <td>20160508.0</td>\n",
       "    </tr>\n",
       "    <tr>\n",
       "      <th>695752</th>\n",
       "      <td>1608973</td>\n",
       "      <td>7902</td>\n",
       "      <td>3250.0</td>\n",
       "      <td>30:1</td>\n",
       "      <td>NaN</td>\n",
       "      <td>20160514.0</td>\n",
       "      <td>20160515.0</td>\n",
       "    </tr>\n",
       "    <tr>\n",
       "      <th>968002</th>\n",
       "      <td>7065586</td>\n",
       "      <td>6597</td>\n",
       "      <td>NaN</td>\n",
       "      <td>NaN</td>\n",
       "      <td>1.0</td>\n",
       "      <td>NaN</td>\n",
       "      <td>20160603.0</td>\n",
       "    </tr>\n",
       "    <tr>\n",
       "      <th>711444</th>\n",
       "      <td>4429928</td>\n",
       "      <td>8575</td>\n",
       "      <td>NaN</td>\n",
       "      <td>NaN</td>\n",
       "      <td>1.0</td>\n",
       "      <td>NaN</td>\n",
       "      <td>20160522.0</td>\n",
       "    </tr>\n",
       "    <tr>\n",
       "      <th>337996</th>\n",
       "      <td>2510679</td>\n",
       "      <td>5341</td>\n",
       "      <td>NaN</td>\n",
       "      <td>NaN</td>\n",
       "      <td>0.0</td>\n",
       "      <td>NaN</td>\n",
       "      <td>20160304.0</td>\n",
       "    </tr>\n",
       "    <tr>\n",
       "      <th>1610742</th>\n",
       "      <td>4571502</td>\n",
       "      <td>6454</td>\n",
       "      <td>14031.0</td>\n",
       "      <td>100:10</td>\n",
       "      <td>NaN</td>\n",
       "      <td>20160202.0</td>\n",
       "      <td>NaN</td>\n",
       "    </tr>\n",
       "    <tr>\n",
       "      <th>216402</th>\n",
       "      <td>3112646</td>\n",
       "      <td>4466</td>\n",
       "      <td>NaN</td>\n",
       "      <td>NaN</td>\n",
       "      <td>0.0</td>\n",
       "      <td>NaN</td>\n",
       "      <td>20160502.0</td>\n",
       "    </tr>\n",
       "    <tr>\n",
       "      <th>829674</th>\n",
       "      <td>5255660</td>\n",
       "      <td>200</td>\n",
       "      <td>9480.0</td>\n",
       "      <td>20:1</td>\n",
       "      <td>0.0</td>\n",
       "      <td>20160512.0</td>\n",
       "      <td>20160516.0</td>\n",
       "    </tr>\n",
       "    <tr>\n",
       "      <th>1022257</th>\n",
       "      <td>2404531</td>\n",
       "      <td>2050</td>\n",
       "      <td>13543.0</td>\n",
       "      <td>200:20</td>\n",
       "      <td>0.0</td>\n",
       "      <td>20160430.0</td>\n",
       "      <td>NaN</td>\n",
       "    </tr>\n",
       "  </tbody>\n",
       "</table>\n",
       "</div>"
      ],
      "text/plain": [
       "         User_id  Merchant_id  Coupon_id Discount_rate  Distance  \\\n",
       "1592552  2976377          760        NaN           NaN       0.0   \n",
       "21371    1953986         3939        NaN           NaN       7.0   \n",
       "695752   1608973         7902     3250.0          30:1       NaN   \n",
       "968002   7065586         6597        NaN           NaN       1.0   \n",
       "711444   4429928         8575        NaN           NaN       1.0   \n",
       "337996   2510679         5341        NaN           NaN       0.0   \n",
       "1610742  4571502         6454    14031.0        100:10       NaN   \n",
       "216402   3112646         4466        NaN           NaN       0.0   \n",
       "829674   5255660          200     9480.0          20:1       0.0   \n",
       "1022257  2404531         2050    13543.0        200:20       0.0   \n",
       "\n",
       "         Date_received        Date  \n",
       "1592552            NaN  20160319.0  \n",
       "21371              NaN  20160508.0  \n",
       "695752      20160514.0  20160515.0  \n",
       "968002             NaN  20160603.0  \n",
       "711444             NaN  20160522.0  \n",
       "337996             NaN  20160304.0  \n",
       "1610742     20160202.0         NaN  \n",
       "216402             NaN  20160502.0  \n",
       "829674      20160512.0  20160516.0  \n",
       "1022257     20160430.0         NaN  "
      ]
     },
     "execution_count": 22,
     "metadata": {},
     "output_type": "execute_result"
    }
   ],
   "source": [
    "dfoff.sample(10)\n",
    "# 优惠券 ID 有不少空的，优惠券领取和消费日期也有不少为空"
   ]
  },
  {
   "cell_type": "code",
   "execution_count": 23,
   "metadata": {},
   "outputs": [
    {
     "data": {
      "text/html": [
       "<div>\n",
       "<style scoped>\n",
       "    .dataframe tbody tr th:only-of-type {\n",
       "        vertical-align: middle;\n",
       "    }\n",
       "\n",
       "    .dataframe tbody tr th {\n",
       "        vertical-align: top;\n",
       "    }\n",
       "\n",
       "    .dataframe thead th {\n",
       "        text-align: right;\n",
       "    }\n",
       "</style>\n",
       "<table border=\"1\" class=\"dataframe\">\n",
       "  <thead>\n",
       "    <tr style=\"text-align: right;\">\n",
       "      <th></th>\n",
       "      <th>User_id</th>\n",
       "      <th>Merchant_id</th>\n",
       "      <th>Coupon_id</th>\n",
       "      <th>Distance</th>\n",
       "      <th>Date_received</th>\n",
       "      <th>Date</th>\n",
       "    </tr>\n",
       "  </thead>\n",
       "  <tbody>\n",
       "    <tr>\n",
       "      <th>count</th>\n",
       "      <td>1.754884e+06</td>\n",
       "      <td>1.754884e+06</td>\n",
       "      <td>1.053282e+06</td>\n",
       "      <td>1.648881e+06</td>\n",
       "      <td>1.053282e+06</td>\n",
       "      <td>7.769840e+05</td>\n",
       "    </tr>\n",
       "    <tr>\n",
       "      <th>mean</th>\n",
       "      <td>3.689255e+06</td>\n",
       "      <td>4.038808e+03</td>\n",
       "      <td>6.815398e+03</td>\n",
       "      <td>2.361636e+00</td>\n",
       "      <td>2.016032e+07</td>\n",
       "      <td>2.016040e+07</td>\n",
       "    </tr>\n",
       "    <tr>\n",
       "      <th>std</th>\n",
       "      <td>2.123428e+06</td>\n",
       "      <td>2.435963e+03</td>\n",
       "      <td>4.174276e+03</td>\n",
       "      <td>3.483974e+00</td>\n",
       "      <td>1.771416e+02</td>\n",
       "      <td>1.621500e+02</td>\n",
       "    </tr>\n",
       "    <tr>\n",
       "      <th>min</th>\n",
       "      <td>4.000000e+00</td>\n",
       "      <td>1.000000e+00</td>\n",
       "      <td>1.000000e+00</td>\n",
       "      <td>0.000000e+00</td>\n",
       "      <td>2.016010e+07</td>\n",
       "      <td>2.016010e+07</td>\n",
       "    </tr>\n",
       "    <tr>\n",
       "      <th>25%</th>\n",
       "      <td>1.845052e+06</td>\n",
       "      <td>1.983000e+03</td>\n",
       "      <td>2.840000e+03</td>\n",
       "      <td>0.000000e+00</td>\n",
       "      <td>2.016013e+07</td>\n",
       "      <td>2.016031e+07</td>\n",
       "    </tr>\n",
       "    <tr>\n",
       "      <th>50%</th>\n",
       "      <td>3.694446e+06</td>\n",
       "      <td>3.532000e+03</td>\n",
       "      <td>7.430000e+03</td>\n",
       "      <td>0.000000e+00</td>\n",
       "      <td>2.016032e+07</td>\n",
       "      <td>2.016042e+07</td>\n",
       "    </tr>\n",
       "    <tr>\n",
       "      <th>75%</th>\n",
       "      <td>5.528759e+06</td>\n",
       "      <td>6.329000e+03</td>\n",
       "      <td>1.032300e+04</td>\n",
       "      <td>3.000000e+00</td>\n",
       "      <td>2.016051e+07</td>\n",
       "      <td>2.016052e+07</td>\n",
       "    </tr>\n",
       "    <tr>\n",
       "      <th>max</th>\n",
       "      <td>7.361032e+06</td>\n",
       "      <td>8.856000e+03</td>\n",
       "      <td>1.404500e+04</td>\n",
       "      <td>1.000000e+01</td>\n",
       "      <td>2.016062e+07</td>\n",
       "      <td>2.016063e+07</td>\n",
       "    </tr>\n",
       "  </tbody>\n",
       "</table>\n",
       "</div>"
      ],
      "text/plain": [
       "            User_id   Merchant_id     Coupon_id      Distance  Date_received  \\\n",
       "count  1.754884e+06  1.754884e+06  1.053282e+06  1.648881e+06   1.053282e+06   \n",
       "mean   3.689255e+06  4.038808e+03  6.815398e+03  2.361636e+00   2.016032e+07   \n",
       "std    2.123428e+06  2.435963e+03  4.174276e+03  3.483974e+00   1.771416e+02   \n",
       "min    4.000000e+00  1.000000e+00  1.000000e+00  0.000000e+00   2.016010e+07   \n",
       "25%    1.845052e+06  1.983000e+03  2.840000e+03  0.000000e+00   2.016013e+07   \n",
       "50%    3.694446e+06  3.532000e+03  7.430000e+03  0.000000e+00   2.016032e+07   \n",
       "75%    5.528759e+06  6.329000e+03  1.032300e+04  3.000000e+00   2.016051e+07   \n",
       "max    7.361032e+06  8.856000e+03  1.404500e+04  1.000000e+01   2.016062e+07   \n",
       "\n",
       "               Date  \n",
       "count  7.769840e+05  \n",
       "mean   2.016040e+07  \n",
       "std    1.621500e+02  \n",
       "min    2.016010e+07  \n",
       "25%    2.016031e+07  \n",
       "50%    2.016042e+07  \n",
       "75%    2.016052e+07  \n",
       "max    2.016063e+07  "
      ]
     },
     "execution_count": 23,
     "metadata": {},
     "output_type": "execute_result"
    }
   ],
   "source": [
    "dfoff.describe()\n",
    "# 绝大多数的距离都里商户比较近"
   ]
  },
  {
   "cell_type": "code",
   "execution_count": 24,
   "metadata": {},
   "outputs": [
    {
     "data": {
      "text/plain": [
       "User_id               0\n",
       "Merchant_id           0\n",
       "Coupon_id        701602\n",
       "Discount_rate    701602\n",
       "Distance         106003\n",
       "Date_received    701602\n",
       "Date             977900\n",
       "dtype: int64"
      ]
     },
     "execution_count": 24,
     "metadata": {},
     "output_type": "execute_result"
    }
   ],
   "source": [
    "dfoff.isna().sum()\n",
    "# 1. 记录中，没有领到优惠券的情况还是比较多\n",
    "# 2. 领到优惠券没有用的也比较多"
   ]
  },
  {
   "cell_type": "code",
   "execution_count": 25,
   "metadata": {},
   "outputs": [
    {
     "data": {
      "text/plain": [
       "User_id          0.000000\n",
       "Merchant_id      0.000000\n",
       "Coupon_id        0.399800\n",
       "Discount_rate    0.399800\n",
       "Distance         0.060405\n",
       "Date_received    0.399800\n",
       "Date             0.557245\n",
       "dtype: float64"
      ]
     },
     "execution_count": 25,
     "metadata": {},
     "output_type": "execute_result"
    }
   ],
   "source": [
    "dfoff.isna().sum() / (dfoff.count() + dfoff.isna().sum())\n",
    "# 缺失值比率"
   ]
  },
  {
   "cell_type": "code",
   "execution_count": 26,
   "metadata": {},
   "outputs": [
    {
     "name": "stdout",
     "output_type": "stream",
     "text": [
      "有优惠卷，购买商品：75382\n",
      "有优惠卷，未购商品：977900\n",
      "无优惠卷，购买商品：701602\n",
      "无优惠卷，未购商品：0\n",
      "正负比例：0.044884\n"
     ]
    }
   ],
   "source": [
    "print('有优惠卷，购买商品：%d' % dfoff[(dfoff['Date_received'].notna()) & (dfoff['Date'].notna())].shape[0])\n",
    "print('有优惠卷，未购商品：%d' % dfoff[(dfoff['Date_received'].notna()) & (dfoff['Date'].isna())].shape[0])\n",
    "print('无优惠卷，购买商品：%d' % dfoff[(dfoff['Date_received'].isna()) & (dfoff['Date'].notna())].shape[0])\n",
    "print('无优惠卷，未购商品：%d' % dfoff[(dfoff['Date_received'].isna()) & (dfoff['Date'].isna())].shape[0])\n",
    "# 有优惠卷，购买商品：75382    ---  正样本\n",
    "# 有优惠卷，未购商品：977900   ---  大多数还是领了优惠券而不会去用\n",
    "# 无优惠卷，购买商品：701602   ---  正常买商品，不是因为优惠券的吸引\n",
    "# 无优惠卷，未购商品：0        ---  说明记录的都是又购买记录\n",
    "print('正负比例：%f' % (float(dfoff[(dfoff['Date_received'].notna()) & (dfoff['Date'].notna())].shape[0]) / (dfoff.shape[0] - dfoff[(dfoff['Date_received'].notna()) & (dfoff['Date'].notna())].shape[0])))"
   ]
  },
  {
   "cell_type": "markdown",
   "metadata": {},
   "source": [
    "#### 1.1.2 数据可视化"
   ]
  },
  {
   "cell_type": "code",
   "execution_count": null,
   "metadata": {},
   "outputs": [],
   "source": [
    "from pandas.plotting import scatter_matrix\n",
    "\n",
    "attrs = ['Discount_rate', 'Distance', 'target']\n",
    "scatter_matrix(dfoff[attrs], figsize=(12, 8))"
   ]
  },
  {
   "cell_type": "markdown",
   "metadata": {},
   "source": [
    "## 1.2 线上数据概览"
   ]
  },
  {
   "cell_type": "code",
   "execution_count": 43,
   "metadata": {},
   "outputs": [
    {
     "name": "stdout",
     "output_type": "stream",
     "text": [
      "<class 'pandas.core.frame.DataFrame'>\n",
      "RangeIndex: 11429826 entries, 0 to 11429825\n",
      "Data columns (total 7 columns):\n",
      "User_id          int64\n",
      "Merchant_id      int64\n",
      "Action           int64\n",
      "Coupon_id        object\n",
      "Discount_rate    object\n",
      "Date_received    float64\n",
      "Date             float64\n",
      "dtypes: float64(2), int64(3), object(2)\n",
      "memory usage: 610.4+ MB\n"
     ]
    }
   ],
   "source": [
    "dfon.info()\n",
    "# 相比线下数据，线上数据没有 distance 特征，多了一个 Action\n",
    "# Action：0 点击， 1购买，2领取优惠券"
   ]
  },
  {
   "cell_type": "code",
   "execution_count": 44,
   "metadata": {},
   "outputs": [
    {
     "data": {
      "text/html": [
       "<div>\n",
       "<style scoped>\n",
       "    .dataframe tbody tr th:only-of-type {\n",
       "        vertical-align: middle;\n",
       "    }\n",
       "\n",
       "    .dataframe tbody tr th {\n",
       "        vertical-align: top;\n",
       "    }\n",
       "\n",
       "    .dataframe thead th {\n",
       "        text-align: right;\n",
       "    }\n",
       "</style>\n",
       "<table border=\"1\" class=\"dataframe\">\n",
       "  <thead>\n",
       "    <tr style=\"text-align: right;\">\n",
       "      <th></th>\n",
       "      <th>User_id</th>\n",
       "      <th>Merchant_id</th>\n",
       "      <th>Action</th>\n",
       "      <th>Coupon_id</th>\n",
       "      <th>Discount_rate</th>\n",
       "      <th>Date_received</th>\n",
       "      <th>Date</th>\n",
       "    </tr>\n",
       "  </thead>\n",
       "  <tbody>\n",
       "    <tr>\n",
       "      <th>3265936</th>\n",
       "      <td>13755800</td>\n",
       "      <td>47413</td>\n",
       "      <td>0</td>\n",
       "      <td>NaN</td>\n",
       "      <td>NaN</td>\n",
       "      <td>NaN</td>\n",
       "      <td>20160104.0</td>\n",
       "    </tr>\n",
       "    <tr>\n",
       "      <th>8055267</th>\n",
       "      <td>10186566</td>\n",
       "      <td>19401</td>\n",
       "      <td>0</td>\n",
       "      <td>NaN</td>\n",
       "      <td>NaN</td>\n",
       "      <td>NaN</td>\n",
       "      <td>20160521.0</td>\n",
       "    </tr>\n",
       "    <tr>\n",
       "      <th>574987</th>\n",
       "      <td>10675199</td>\n",
       "      <td>51810</td>\n",
       "      <td>0</td>\n",
       "      <td>NaN</td>\n",
       "      <td>NaN</td>\n",
       "      <td>NaN</td>\n",
       "      <td>20160504.0</td>\n",
       "    </tr>\n",
       "    <tr>\n",
       "      <th>3068998</th>\n",
       "      <td>11935798</td>\n",
       "      <td>56103</td>\n",
       "      <td>0</td>\n",
       "      <td>NaN</td>\n",
       "      <td>NaN</td>\n",
       "      <td>NaN</td>\n",
       "      <td>20160506.0</td>\n",
       "    </tr>\n",
       "    <tr>\n",
       "      <th>1643935</th>\n",
       "      <td>13204300</td>\n",
       "      <td>42401</td>\n",
       "      <td>0</td>\n",
       "      <td>NaN</td>\n",
       "      <td>NaN</td>\n",
       "      <td>NaN</td>\n",
       "      <td>20160306.0</td>\n",
       "    </tr>\n",
       "    <tr>\n",
       "      <th>8721361</th>\n",
       "      <td>10315931</td>\n",
       "      <td>36701</td>\n",
       "      <td>0</td>\n",
       "      <td>NaN</td>\n",
       "      <td>NaN</td>\n",
       "      <td>NaN</td>\n",
       "      <td>20160614.0</td>\n",
       "    </tr>\n",
       "    <tr>\n",
       "      <th>7748845</th>\n",
       "      <td>12378632</td>\n",
       "      <td>15813</td>\n",
       "      <td>0</td>\n",
       "      <td>NaN</td>\n",
       "      <td>NaN</td>\n",
       "      <td>NaN</td>\n",
       "      <td>20160314.0</td>\n",
       "    </tr>\n",
       "    <tr>\n",
       "      <th>955234</th>\n",
       "      <td>2845196</td>\n",
       "      <td>36611</td>\n",
       "      <td>1</td>\n",
       "      <td>NaN</td>\n",
       "      <td>NaN</td>\n",
       "      <td>NaN</td>\n",
       "      <td>20160326.0</td>\n",
       "    </tr>\n",
       "    <tr>\n",
       "      <th>5575331</th>\n",
       "      <td>14066031</td>\n",
       "      <td>15813</td>\n",
       "      <td>0</td>\n",
       "      <td>NaN</td>\n",
       "      <td>NaN</td>\n",
       "      <td>NaN</td>\n",
       "      <td>20160217.0</td>\n",
       "    </tr>\n",
       "    <tr>\n",
       "      <th>6518093</th>\n",
       "      <td>13257364</td>\n",
       "      <td>13200</td>\n",
       "      <td>0</td>\n",
       "      <td>NaN</td>\n",
       "      <td>NaN</td>\n",
       "      <td>NaN</td>\n",
       "      <td>20160220.0</td>\n",
       "    </tr>\n",
       "  </tbody>\n",
       "</table>\n",
       "</div>"
      ],
      "text/plain": [
       "          User_id  Merchant_id  Action Coupon_id Discount_rate  Date_received  \\\n",
       "3265936  13755800        47413       0       NaN           NaN            NaN   \n",
       "8055267  10186566        19401       0       NaN           NaN            NaN   \n",
       "574987   10675199        51810       0       NaN           NaN            NaN   \n",
       "3068998  11935798        56103       0       NaN           NaN            NaN   \n",
       "1643935  13204300        42401       0       NaN           NaN            NaN   \n",
       "8721361  10315931        36701       0       NaN           NaN            NaN   \n",
       "7748845  12378632        15813       0       NaN           NaN            NaN   \n",
       "955234    2845196        36611       1       NaN           NaN            NaN   \n",
       "5575331  14066031        15813       0       NaN           NaN            NaN   \n",
       "6518093  13257364        13200       0       NaN           NaN            NaN   \n",
       "\n",
       "               Date  \n",
       "3265936  20160104.0  \n",
       "8055267  20160521.0  \n",
       "574987   20160504.0  \n",
       "3068998  20160506.0  \n",
       "1643935  20160306.0  \n",
       "8721361  20160614.0  \n",
       "7748845  20160314.0  \n",
       "955234   20160326.0  \n",
       "5575331  20160217.0  \n",
       "6518093  20160220.0  "
      ]
     },
     "execution_count": 44,
     "metadata": {},
     "output_type": "execute_result"
    }
   ],
   "source": [
    "dfon.sample(10)"
   ]
  },
  {
   "cell_type": "code",
   "execution_count": 12,
   "metadata": {},
   "outputs": [
    {
     "data": {
      "text/html": [
       "<div>\n",
       "<style scoped>\n",
       "    .dataframe tbody tr th:only-of-type {\n",
       "        vertical-align: middle;\n",
       "    }\n",
       "\n",
       "    .dataframe tbody tr th {\n",
       "        vertical-align: top;\n",
       "    }\n",
       "\n",
       "    .dataframe thead th {\n",
       "        text-align: right;\n",
       "    }\n",
       "</style>\n",
       "<table border=\"1\" class=\"dataframe\">\n",
       "  <thead>\n",
       "    <tr style=\"text-align: right;\">\n",
       "      <th></th>\n",
       "      <th>User_id</th>\n",
       "      <th>Merchant_id</th>\n",
       "      <th>Action</th>\n",
       "      <th>Date_received</th>\n",
       "      <th>Date</th>\n",
       "    </tr>\n",
       "  </thead>\n",
       "  <tbody>\n",
       "    <tr>\n",
       "      <th>count</th>\n",
       "      <td>1.142983e+07</td>\n",
       "      <td>1.142983e+07</td>\n",
       "      <td>1.142983e+07</td>\n",
       "      <td>8.723570e+05</td>\n",
       "      <td>1.077393e+07</td>\n",
       "    </tr>\n",
       "    <tr>\n",
       "      <th>mean</th>\n",
       "      <td>1.074683e+07</td>\n",
       "      <td>3.436686e+04</td>\n",
       "      <td>2.348193e-01</td>\n",
       "      <td>2.016037e+07</td>\n",
       "      <td>2.016039e+07</td>\n",
       "    </tr>\n",
       "    <tr>\n",
       "      <th>std</th>\n",
       "      <td>4.137712e+06</td>\n",
       "      <td>1.441243e+04</td>\n",
       "      <td>5.426314e-01</td>\n",
       "      <td>1.560031e+02</td>\n",
       "      <td>1.732371e+02</td>\n",
       "    </tr>\n",
       "    <tr>\n",
       "      <th>min</th>\n",
       "      <td>4.000000e+00</td>\n",
       "      <td>1.000100e+04</td>\n",
       "      <td>0.000000e+00</td>\n",
       "      <td>2.016010e+07</td>\n",
       "      <td>2.016010e+07</td>\n",
       "    </tr>\n",
       "    <tr>\n",
       "      <th>25%</th>\n",
       "      <td>1.019827e+07</td>\n",
       "      <td>2.090100e+04</td>\n",
       "      <td>0.000000e+00</td>\n",
       "      <td>2.016023e+07</td>\n",
       "      <td>2.016023e+07</td>\n",
       "    </tr>\n",
       "    <tr>\n",
       "      <th>50%</th>\n",
       "      <td>1.196970e+07</td>\n",
       "      <td>3.420000e+04</td>\n",
       "      <td>0.000000e+00</td>\n",
       "      <td>2.016040e+07</td>\n",
       "      <td>2.016041e+07</td>\n",
       "    </tr>\n",
       "    <tr>\n",
       "      <th>75%</th>\n",
       "      <td>1.373506e+07</td>\n",
       "      <td>4.741500e+04</td>\n",
       "      <td>0.000000e+00</td>\n",
       "      <td>2.016051e+07</td>\n",
       "      <td>2.016052e+07</td>\n",
       "    </tr>\n",
       "    <tr>\n",
       "      <th>max</th>\n",
       "      <td>1.550000e+07</td>\n",
       "      <td>6.000000e+04</td>\n",
       "      <td>2.000000e+00</td>\n",
       "      <td>2.016062e+07</td>\n",
       "      <td>2.016063e+07</td>\n",
       "    </tr>\n",
       "  </tbody>\n",
       "</table>\n",
       "</div>"
      ],
      "text/plain": [
       "            User_id   Merchant_id        Action  Date_received          Date\n",
       "count  1.142983e+07  1.142983e+07  1.142983e+07   8.723570e+05  1.077393e+07\n",
       "mean   1.074683e+07  3.436686e+04  2.348193e-01   2.016037e+07  2.016039e+07\n",
       "std    4.137712e+06  1.441243e+04  5.426314e-01   1.560031e+02  1.732371e+02\n",
       "min    4.000000e+00  1.000100e+04  0.000000e+00   2.016010e+07  2.016010e+07\n",
       "25%    1.019827e+07  2.090100e+04  0.000000e+00   2.016023e+07  2.016023e+07\n",
       "50%    1.196970e+07  3.420000e+04  0.000000e+00   2.016040e+07  2.016041e+07\n",
       "75%    1.373506e+07  4.741500e+04  0.000000e+00   2.016051e+07  2.016052e+07\n",
       "max    1.550000e+07  6.000000e+04  2.000000e+00   2.016062e+07  2.016063e+07"
      ]
     },
     "execution_count": 12,
     "metadata": {},
     "output_type": "execute_result"
    }
   ],
   "source": [
    "dfon.describe()\n",
    "# Action 大多数还是只做了点击"
   ]
  },
  {
   "cell_type": "code",
   "execution_count": 16,
   "metadata": {},
   "outputs": [
    {
     "data": {
      "text/plain": [
       "User_id                 0\n",
       "Merchant_id             0\n",
       "Action                  0\n",
       "Coupon_id        10557469\n",
       "Discount_rate    10557469\n",
       "Date_received    10557469\n",
       "Date               655898\n",
       "dtype: int64"
      ]
     },
     "execution_count": 16,
     "metadata": {},
     "output_type": "execute_result"
    }
   ],
   "source": [
    "dfon.isnull().sum()\n",
    "# 跟优惠券相关的特征空的比较多"
   ]
  },
  {
   "cell_type": "code",
   "execution_count": 20,
   "metadata": {},
   "outputs": [
    {
     "data": {
      "text/html": [
       "<div>\n",
       "<style scoped>\n",
       "    .dataframe tbody tr th:only-of-type {\n",
       "        vertical-align: middle;\n",
       "    }\n",
       "\n",
       "    .dataframe tbody tr th {\n",
       "        vertical-align: top;\n",
       "    }\n",
       "\n",
       "    .dataframe thead th {\n",
       "        text-align: right;\n",
       "    }\n",
       "</style>\n",
       "<table border=\"1\" class=\"dataframe\">\n",
       "  <thead>\n",
       "    <tr style=\"text-align: right;\">\n",
       "      <th></th>\n",
       "      <th>User_id</th>\n",
       "      <th>Merchant_id</th>\n",
       "      <th>Coupon_id</th>\n",
       "      <th>Discount_rate</th>\n",
       "      <th>Distance</th>\n",
       "      <th>Date_received</th>\n",
       "      <th>Date</th>\n",
       "      <th>target</th>\n",
       "    </tr>\n",
       "  </thead>\n",
       "  <tbody>\n",
       "    <tr>\n",
       "      <th>661459</th>\n",
       "      <td>2987490</td>\n",
       "      <td>2099</td>\n",
       "      <td>12034.0</td>\n",
       "      <td>0.900000</td>\n",
       "      <td>1</td>\n",
       "      <td>0.227545</td>\n",
       "      <td>0.000000</td>\n",
       "      <td>0</td>\n",
       "    </tr>\n",
       "    <tr>\n",
       "      <th>340288</th>\n",
       "      <td>2098527</td>\n",
       "      <td>5479</td>\n",
       "      <td>NaN</td>\n",
       "      <td>0.000000</td>\n",
       "      <td>0</td>\n",
       "      <td>0.000000</td>\n",
       "      <td>0.615385</td>\n",
       "      <td>0</td>\n",
       "    </tr>\n",
       "    <tr>\n",
       "      <th>273279</th>\n",
       "      <td>4310885</td>\n",
       "      <td>7555</td>\n",
       "      <td>5582.0</td>\n",
       "      <td>0.833333</td>\n",
       "      <td>0</td>\n",
       "      <td>0.125749</td>\n",
       "      <td>0.000000</td>\n",
       "      <td>0</td>\n",
       "    </tr>\n",
       "    <tr>\n",
       "      <th>20119</th>\n",
       "      <td>4142978</td>\n",
       "      <td>5870</td>\n",
       "      <td>NaN</td>\n",
       "      <td>0.000000</td>\n",
       "      <td>6</td>\n",
       "      <td>0.000000</td>\n",
       "      <td>0.280220</td>\n",
       "      <td>0</td>\n",
       "    </tr>\n",
       "    <tr>\n",
       "      <th>314230</th>\n",
       "      <td>3346179</td>\n",
       "      <td>5341</td>\n",
       "      <td>NaN</td>\n",
       "      <td>0.000000</td>\n",
       "      <td>1</td>\n",
       "      <td>0.000000</td>\n",
       "      <td>0.142857</td>\n",
       "      <td>0</td>\n",
       "    </tr>\n",
       "    <tr>\n",
       "      <th>77093</th>\n",
       "      <td>85695</td>\n",
       "      <td>5341</td>\n",
       "      <td>NaN</td>\n",
       "      <td>0.000000</td>\n",
       "      <td>0</td>\n",
       "      <td>0.000000</td>\n",
       "      <td>0.109890</td>\n",
       "      <td>0</td>\n",
       "    </tr>\n",
       "    <tr>\n",
       "      <th>679954</th>\n",
       "      <td>7434</td>\n",
       "      <td>6825</td>\n",
       "      <td>11678.0</td>\n",
       "      <td>0.900000</td>\n",
       "      <td>10</td>\n",
       "      <td>0.682635</td>\n",
       "      <td>0.000000</td>\n",
       "      <td>0</td>\n",
       "    </tr>\n",
       "    <tr>\n",
       "      <th>468398</th>\n",
       "      <td>7350919</td>\n",
       "      <td>450</td>\n",
       "      <td>8555.0</td>\n",
       "      <td>0.833333</td>\n",
       "      <td>3</td>\n",
       "      <td>0.173653</td>\n",
       "      <td>0.000000</td>\n",
       "      <td>0</td>\n",
       "    </tr>\n",
       "    <tr>\n",
       "      <th>254799</th>\n",
       "      <td>6470213</td>\n",
       "      <td>5341</td>\n",
       "      <td>11539.0</td>\n",
       "      <td>0.833333</td>\n",
       "      <td>0</td>\n",
       "      <td>0.149701</td>\n",
       "      <td>0.230769</td>\n",
       "      <td>1</td>\n",
       "    </tr>\n",
       "    <tr>\n",
       "      <th>121011</th>\n",
       "      <td>5267532</td>\n",
       "      <td>8614</td>\n",
       "      <td>332.0</td>\n",
       "      <td>0.833333</td>\n",
       "      <td>3</td>\n",
       "      <td>0.874251</td>\n",
       "      <td>0.000000</td>\n",
       "      <td>0</td>\n",
       "    </tr>\n",
       "  </tbody>\n",
       "</table>\n",
       "</div>"
      ],
      "text/plain": [
       "        User_id  Merchant_id  Coupon_id  Discount_rate Distance  \\\n",
       "661459  2987490         2099    12034.0       0.900000        1   \n",
       "340288  2098527         5479        NaN       0.000000        0   \n",
       "273279  4310885         7555     5582.0       0.833333        0   \n",
       "20119   4142978         5870        NaN       0.000000        6   \n",
       "314230  3346179         5341        NaN       0.000000        1   \n",
       "77093     85695         5341        NaN       0.000000        0   \n",
       "679954     7434         6825    11678.0       0.900000       10   \n",
       "468398  7350919          450     8555.0       0.833333        3   \n",
       "254799  6470213         5341    11539.0       0.833333        0   \n",
       "121011  5267532         8614      332.0       0.833333        3   \n",
       "\n",
       "        Date_received      Date  target  \n",
       "661459       0.227545  0.000000       0  \n",
       "340288       0.000000  0.615385       0  \n",
       "273279       0.125749  0.000000       0  \n",
       "20119        0.000000  0.280220       0  \n",
       "314230       0.000000  0.142857       0  \n",
       "77093        0.000000  0.109890       0  \n",
       "679954       0.682635  0.000000       0  \n",
       "468398       0.173653  0.000000       0  \n",
       "254799       0.149701  0.230769       1  \n",
       "121011       0.874251  0.000000       0  "
      ]
     },
     "execution_count": 20,
     "metadata": {},
     "output_type": "execute_result"
    }
   ],
   "source": [
    "dfoff.sample(10)"
   ]
  },
  {
   "cell_type": "markdown",
   "metadata": {},
   "source": [
    "## 2. 特征工程"
   ]
  },
  {
   "cell_type": "code",
   "execution_count": 5,
   "metadata": {},
   "outputs": [],
   "source": [
    "# 线下特征转换的函数定义\n",
    "from sklearn.preprocessing import OneHotEncoder\n",
    "# 查看折扣率特征，看如何将其转换\n",
    "# dfoff['Discount_rate'].unique()\n",
    "\n",
    "## 通过不同类型的折扣优惠可以得到类型特征\n",
    "def Discount_rate_to_type(row):\n",
    "    if pd.isnull(row):\n",
    "        return 0\n",
    "    elif ':' in row:\n",
    "        return 1\n",
    "    elif '.' in row:\n",
    "        return 2\n",
    "\n",
    "## 将 Discount_rate 字符串转化成[0, 1]之间小数\n",
    "def Discount_rate_zero_to_one(row):\n",
    "    if pd.isnull(row):\n",
    "        return 0\n",
    "    if ':' in row:\n",
    "        sps = row.split(':')\n",
    "        return (float(sps[0]) - float(sps[1])) / float(sps[0])\n",
    "    return float(row)\n",
    "# dfoff['Discount_rate'] = dfoff['Discount_rate'].apply(get_Discount_rate)\n",
    "\n",
    "# 1. Discount_rate 特征\n",
    "def Discount_rate_feat(df):\n",
    "    df['Discount_rate_type'] = df['Discount_rate'].apply(Discount_rate_to_type)\n",
    "    df['Discount_rate_std'] = df['Discount_rate'].apply(Discount_rate_zero_to_one)\n",
    "    df['Discount_rate'].fillna(0, inplace=True)\n",
    "    return df\n",
    "\n",
    "## 处理 Date_received，为空的返回为零，其他的按位取\n",
    "def Date_received_split_month(row):\n",
    "    if pd.isnull(row):\n",
    "        return 0\n",
    "    row_s = str(int(row))\n",
    "    return float(row_s[4:6])\n",
    "\n",
    "def Date_received_split_day(row):\n",
    "    if pd.isnull(row):\n",
    "        return 0\n",
    "    row_s = str(int(row))\n",
    "    return float(row_s[4:6])\n",
    "\n",
    "# 2. Date_received 特征\n",
    "def Date_received_feat(df):\n",
    "#     df = df.append(['Date_received_month', 'Date_received_day'])\n",
    "#     df = df['Date_received'].apply(Date_received_split)\n",
    "#     df[['Date_received_month', 'Date_received_day']] = df['Date_received'].apply(Date_received_split, axis=1, result_type=\"expand\")\n",
    "    df['Date_received_month'] = df['Date_received'].apply(Date_received_split_month)\n",
    "    df['Date_received_day'] = df['Date_received'].apply(Date_received_split_day)\n",
    "\n",
    "# ## 然后做 scale，方便模型处理\n",
    "#     df = pd.concat((df, pd.get_dummies(df['Date_received_month'], prefix='Date_received_month')), axis=1)\n",
    "#     df = pd.concat((df, pd.get_dummies(df['Date_received_day'], prefix='Date_received_day')), axis=1)\n",
    "    \n",
    "#     # 处理时间类型的特征\n",
    "#     ## 先做了 labelencoder\n",
    "#     df['Date_received'] = LabelEncoder().fit_transform(df['Date_received'])\n",
    "#     ## 然后做 scale，方便模型处理\n",
    "#     df['Date_received'] = MinMaxScaler().fit_transform(df['Date_received'].values.reshape(-1, 1))\n",
    "\n",
    "    return df\n",
    "\n",
    "# 3. Distance\n",
    "def Distance_feat(df):\n",
    "    # 缺失值\n",
    "    df['Distance'].fillna(df['Distance'].median(), inplace=True)\n",
    "    \n",
    "    # 归一化距离\n",
    "    df['Distance'] = MinMaxScaler().fit_transform(df['Distance'].values.reshape(-1, 1))\n",
    "    return df"
   ]
  },
  {
   "cell_type": "code",
   "execution_count": 6,
   "metadata": {},
   "outputs": [],
   "source": [
    "# 线下数据处理汇总\n",
    "def off_feats(df_, no_discount_rate=True):\n",
    "    # 创建一个拷贝，修改不影响原数据，这样就不用因为原数据被修改从头 run 一遍，节省时间，不要老对内存扣扣搜搜的，硬件问题不会特别大\n",
    "    df = df_.copy()\n",
    "\n",
    "    df = Discount_rate_feat(df)\n",
    "    df = Date_received_feat(df)\n",
    "    df = Distance_feat(df)\n",
    "    \n",
    "    # drop featues\n",
    "    if no_discount_rate:\n",
    "        feats = ['Discount_rate', 'Date_received']\n",
    "        df.drop(feats, axis=1, inplace=True)\n",
    "    return df"
   ]
  },
  {
   "cell_type": "code",
   "execution_count": 7,
   "metadata": {},
   "outputs": [],
   "source": [
    "# 待丰富，做特征工程的类\n",
    "class FeatureConverting(BaseEstimator, TransformerMixin):\n",
    "    def __init__(self, no_discount_rate=True):\n",
    "        self.no_discount_rate = no_discount_rate\n",
    "    def fit(self, X, y=None):\n",
    "        return self   # Nothing else to do\n",
    "    def transform(self, X, y=None):\n",
    "        return off_feats(X, self.no_discount_rate)\n",
    "#     def fit_transform(self, X, y=None):\n",
    "#         return off_feats(X)"
   ]
  },
  {
   "cell_type": "markdown",
   "metadata": {},
   "source": [
    "## 选一个模型"
   ]
  },
  {
   "cell_type": "code",
   "execution_count": 82,
   "metadata": {},
   "outputs": [],
   "source": [
    "# 单模型测试\n",
    "from sklearn.linear_model import LogisticRegression\n",
    "from sklearn.pipeline import Pipeline\n",
    "\n",
    "# 管道机制使得参数集在新数据集（比如测试集）上的重复使用，管道机制实现了对全部步骤的流式化封装和管理。\n",
    "feat_eng = Pipeline([\n",
    "    ('fc', FeatureConverting()), # transformer\n",
    "#     ('en', classifier()),  # estimator\n",
    "])\n",
    "\n",
    "feats = ['Discount_rate', 'Distance', 'Date_received']\n",
    "feat_eng_tr = feat_eng.fit_transform(train_off[feats])\n",
    "feat_eng_ts = feat_eng.transform(test_off[feats])"
   ]
  },
  {
   "cell_type": "code",
   "execution_count": 10,
   "metadata": {},
   "outputs": [
    {
     "data": {
      "text/plain": [
       "0.8014543094049007"
      ]
     },
     "execution_count": 10,
     "metadata": {},
     "output_type": "execute_result"
    }
   ],
   "source": [
    "# 下采样\n",
    "from imblearn.under_sampling import RandomUnderSampler\n",
    "cc = RandomUnderSampler(random_state=0)\n",
    "X_train, y_train = cc.fit_sample(feat_eng_tr, train_off['label'])\n",
    "\n",
    "clf = RandomForestClassifier().fit(X_train, y_train)\n",
    "y_pred = clf.predict(feat_eng_ts)\n",
    "\n",
    "from sklearn.metrics import roc_auc_score\n",
    "roc_auc_score(test_off['label'], y_pred)"
   ]
  },
  {
   "cell_type": "code",
   "execution_count": 15,
   "metadata": {},
   "outputs": [],
   "source": [
    "# 对结果预测\n",
    "submit = dftest[['User_id', 'Coupon_id', 'Date_received']]\n",
    "\n",
    "feat_dftest = feat_eng.transform(dftest[['Discount_rate', 'Distance', 'Date_received']])\n",
    "\n",
    "submit['Probability'] = clf.predict_proba(feat_dftest)[:,0]\n",
    "submit.to_csv('submission.csv', header=None, index=False)"
   ]
  },
  {
   "cell_type": "code",
   "execution_count": 14,
   "metadata": {},
   "outputs": [
    {
     "data": {
      "text/html": [
       "<div>\n",
       "<style scoped>\n",
       "    .dataframe tbody tr th:only-of-type {\n",
       "        vertical-align: middle;\n",
       "    }\n",
       "\n",
       "    .dataframe tbody tr th {\n",
       "        vertical-align: top;\n",
       "    }\n",
       "\n",
       "    .dataframe thead th {\n",
       "        text-align: right;\n",
       "    }\n",
       "</style>\n",
       "<table border=\"1\" class=\"dataframe\">\n",
       "  <thead>\n",
       "    <tr style=\"text-align: right;\">\n",
       "      <th></th>\n",
       "      <th>Distance</th>\n",
       "      <th>Date_received</th>\n",
       "      <th>Discount_rate_type</th>\n",
       "      <th>Discount_rate_std</th>\n",
       "      <th>Date_received_month</th>\n",
       "      <th>Date_received_day</th>\n",
       "    </tr>\n",
       "  </thead>\n",
       "  <tbody>\n",
       "    <tr>\n",
       "      <th>157523</th>\n",
       "      <td>0.0</td>\n",
       "      <td>20160324.0</td>\n",
       "      <td>1</td>\n",
       "      <td>0.750000</td>\n",
       "      <td>3.0</td>\n",
       "      <td>3.0</td>\n",
       "    </tr>\n",
       "    <tr>\n",
       "      <th>1569546</th>\n",
       "      <td>0.2</td>\n",
       "      <td>20160207.0</td>\n",
       "      <td>1</td>\n",
       "      <td>0.900000</td>\n",
       "      <td>2.0</td>\n",
       "      <td>2.0</td>\n",
       "    </tr>\n",
       "    <tr>\n",
       "      <th>750552</th>\n",
       "      <td>0.0</td>\n",
       "      <td>20160331.0</td>\n",
       "      <td>1</td>\n",
       "      <td>0.833333</td>\n",
       "      <td>3.0</td>\n",
       "      <td>3.0</td>\n",
       "    </tr>\n",
       "    <tr>\n",
       "      <th>972412</th>\n",
       "      <td>0.0</td>\n",
       "      <td>NaN</td>\n",
       "      <td>0</td>\n",
       "      <td>0.000000</td>\n",
       "      <td>0.0</td>\n",
       "      <td>0.0</td>\n",
       "    </tr>\n",
       "    <tr>\n",
       "      <th>107330</th>\n",
       "      <td>0.0</td>\n",
       "      <td>20160513.0</td>\n",
       "      <td>1</td>\n",
       "      <td>0.833333</td>\n",
       "      <td>5.0</td>\n",
       "      <td>5.0</td>\n",
       "    </tr>\n",
       "    <tr>\n",
       "      <th>305074</th>\n",
       "      <td>0.0</td>\n",
       "      <td>NaN</td>\n",
       "      <td>0</td>\n",
       "      <td>0.000000</td>\n",
       "      <td>0.0</td>\n",
       "      <td>0.0</td>\n",
       "    </tr>\n",
       "    <tr>\n",
       "      <th>204641</th>\n",
       "      <td>0.0</td>\n",
       "      <td>NaN</td>\n",
       "      <td>0</td>\n",
       "      <td>0.000000</td>\n",
       "      <td>0.0</td>\n",
       "      <td>0.0</td>\n",
       "    </tr>\n",
       "    <tr>\n",
       "      <th>16925</th>\n",
       "      <td>0.0</td>\n",
       "      <td>20160325.0</td>\n",
       "      <td>1</td>\n",
       "      <td>0.500000</td>\n",
       "      <td>3.0</td>\n",
       "      <td>3.0</td>\n",
       "    </tr>\n",
       "    <tr>\n",
       "      <th>714983</th>\n",
       "      <td>1.0</td>\n",
       "      <td>20160414.0</td>\n",
       "      <td>1</td>\n",
       "      <td>0.850000</td>\n",
       "      <td>4.0</td>\n",
       "      <td>4.0</td>\n",
       "    </tr>\n",
       "    <tr>\n",
       "      <th>929172</th>\n",
       "      <td>0.6</td>\n",
       "      <td>NaN</td>\n",
       "      <td>0</td>\n",
       "      <td>0.000000</td>\n",
       "      <td>0.0</td>\n",
       "      <td>0.0</td>\n",
       "    </tr>\n",
       "  </tbody>\n",
       "</table>\n",
       "</div>"
      ],
      "text/plain": [
       "         Distance  Date_received  Discount_rate_type  Discount_rate_std  \\\n",
       "157523        0.0     20160324.0                   1           0.750000   \n",
       "1569546       0.2     20160207.0                   1           0.900000   \n",
       "750552        0.0     20160331.0                   1           0.833333   \n",
       "972412        0.0            NaN                   0           0.000000   \n",
       "107330        0.0     20160513.0                   1           0.833333   \n",
       "305074        0.0            NaN                   0           0.000000   \n",
       "204641        0.0            NaN                   0           0.000000   \n",
       "16925         0.0     20160325.0                   1           0.500000   \n",
       "714983        1.0     20160414.0                   1           0.850000   \n",
       "929172        0.6            NaN                   0           0.000000   \n",
       "\n",
       "         Date_received_month  Date_received_day  \n",
       "157523                   3.0                3.0  \n",
       "1569546                  2.0                2.0  \n",
       "750552                   3.0                3.0  \n",
       "972412                   0.0                0.0  \n",
       "107330                   5.0                5.0  \n",
       "305074                   0.0                0.0  \n",
       "204641                   0.0                0.0  \n",
       "16925                    3.0                3.0  \n",
       "714983                   4.0                4.0  \n",
       "929172                   0.0                0.0  "
      ]
     },
     "execution_count": 14,
     "metadata": {},
     "output_type": "execute_result"
    }
   ],
   "source": [
    "feat_eng_tr.sample(10)"
   ]
  },
  {
   "cell_type": "code",
   "execution_count": 9,
   "metadata": {},
   "outputs": [
    {
     "name": "stderr",
     "output_type": "stream",
     "text": [
      " 50%|█████     | 2/4 [00:00<00:00,  5.19it/s]"
     ]
    },
    {
     "name": "stdout",
     "output_type": "stream",
     "text": [
      "('LogisticRegression', 0.7693375293719635, 0.6415463121515085)\n",
      "('GaussianNB', 0.7250742095294862, 0.5892494379973616)\n"
     ]
    },
    {
     "name": "stderr",
     "output_type": "stream",
     "text": [
      "\r",
      " 75%|███████▌  | 3/4 [00:00<00:00,  5.62it/s]"
     ]
    },
    {
     "name": "stdout",
     "output_type": "stream",
     "text": [
      "('DecisionTreeClassifier', 0.8011709837788178, 0.7052598888246239)\n"
     ]
    },
    {
     "name": "stderr",
     "output_type": "stream",
     "text": [
      "\r",
      "100%|██████████| 4/4 [00:01<00:00,  2.99it/s]"
     ]
    },
    {
     "name": "stdout",
     "output_type": "stream",
     "text": [
      "('RandomForestClassifier', 0.802024182039111, 0.7051174293472222)\n"
     ]
    },
    {
     "name": "stderr",
     "output_type": "stream",
     "text": [
      "\n"
     ]
    }
   ],
   "source": [
    "# 多个模型批量跑\n",
    "from sklearn.pipeline import Pipeline\n",
    "from sklearn.metrics import roc_auc_score\n",
    "from sklearn.metrics import accuracy_score\n",
    "from tqdm import tqdm\n",
    "\n",
    "from sklearn.linear_model import LogisticRegression\n",
    "from sklearn.svm import SVC\n",
    "from sklearn.naive_bayes import GaussianNB\n",
    "from sklearn.tree import DecisionTreeClassifier\n",
    "from sklearn.ensemble import RandomForestClassifier\n",
    "\n",
    "# 管道机制使得参数集在新数据集（比如测试集）上的重复使用，管道机制实现了对全部步骤的流式化封装和管理。\n",
    "feat_eng = Pipeline([\n",
    "    ('fc', FeatureConverting()), # transformer\n",
    "])\n",
    "\n",
    "feats = ['Discount_rate', 'Distance', 'Date_received']\n",
    "feat_eng_tr = feat_eng.fit_transform(train_off[feats])\n",
    "feat_eng_ts = feat_eng.transform(test_off[feats])\n",
    "\n",
    "# 下采样\n",
    "from imblearn.under_sampling import RandomUnderSampler\n",
    "cc = RandomUnderSampler(random_state=0)\n",
    "X_train, y_train = cc.fit_sample(feat_eng_tr, train_off['label'])\n",
    "\n",
    "models = tqdm([LogisticRegression(), GaussianNB(), DecisionTreeClassifier(), RandomForestClassifier()])\n",
    "\n",
    "for model in models:\n",
    "    clf = model.fit(X_train, y_train)\n",
    "    y_pred = clf.predict(feat_eng_ts)\n",
    "    print(type(model).__name__, roc_auc_score(test_off['label'], y_pred), accuracy_score(test_off['label'], y_pred))"
   ]
  },
  {
   "cell_type": "code",
   "execution_count": null,
   "metadata": {},
   "outputs": [],
   "source": []
  },
  {
   "cell_type": "code",
   "execution_count": null,
   "metadata": {},
   "outputs": [],
   "source": [
    "SVC(gamma='auto'),"
   ]
  },
  {
   "cell_type": "code",
   "execution_count": null,
   "metadata": {},
   "outputs": [],
   "source": []
  },
  {
   "cell_type": "code",
   "execution_count": null,
   "metadata": {},
   "outputs": [],
   "source": [
    "clf = LogisticRegression().fit(feat_eng_tr, feat_eng_tr['label'])\n",
    "y_pred = clf.predict(feat_eng_ts)\n",
    "\n",
    "# from sklearn.metrics import accuracy_score\n",
    "# accuracy_score(test_off['label'], y_pred)\n",
    "from sklearn.metrics import roc_auc_score\n",
    "roc_auc_score(test_off['label'], y_pred)\n",
    "\n",
    "# y_pred = clf.predict(dftest[feats])\n",
    "\n",
    "# from sklearn.metrics import accuracy_score\n",
    "# accuracy_score(test_off, y_pred)"
   ]
  },
  {
   "cell_type": "code",
   "execution_count": 10,
   "metadata": {},
   "outputs": [
    {
     "ename": "ValueError",
     "evalue": "The truth value of a DataFrame is ambiguous. Use a.empty, a.bool(), a.item(), a.any() or a.all().",
     "output_type": "error",
     "traceback": [
      "\u001b[0;31m---------------------------------------------------------------------------\u001b[0m",
      "\u001b[0;31mValueError\u001b[0m                                Traceback (most recent call last)",
      "\u001b[0;32m<ipython-input-10-5f47771d7cbc>\u001b[0m in \u001b[0;36m<module>\u001b[0;34m()\u001b[0m\n\u001b[1;32m      3\u001b[0m model = make_pipeline(FeatureConverting(),\n\u001b[1;32m      4\u001b[0m                       LogisticRegression())\n\u001b[0;32m----> 5\u001b[0;31m \u001b[0mmodel\u001b[0m\u001b[0;34m.\u001b[0m\u001b[0mfit\u001b[0m\u001b[0;34m(\u001b[0m\u001b[0mtrain_off\u001b[0m\u001b[0;34m[\u001b[0m\u001b[0;34m[\u001b[0m\u001b[0;34m'Discount_rate'\u001b[0m\u001b[0;34m,\u001b[0m \u001b[0;34m'Distance'\u001b[0m\u001b[0;34m,\u001b[0m \u001b[0;34m'Date_received'\u001b[0m\u001b[0;34m]\u001b[0m\u001b[0;34m]\u001b[0m\u001b[0;34m,\u001b[0m \u001b[0mtrain_off\u001b[0m\u001b[0;34m[\u001b[0m\u001b[0;34m'label'\u001b[0m\u001b[0;34m]\u001b[0m\u001b[0;34m)\u001b[0m\u001b[0;34m\u001b[0m\u001b[0m\n\u001b[0m",
      "\u001b[0;32m/usr/local/lib/python2.7/site-packages/sklearn/pipeline.pyc\u001b[0m in \u001b[0;36mfit\u001b[0;34m(self, X, y, **fit_params)\u001b[0m\n\u001b[1;32m    246\u001b[0m             \u001b[0mThis\u001b[0m \u001b[0mestimator\u001b[0m\u001b[0;34m\u001b[0m\u001b[0m\n\u001b[1;32m    247\u001b[0m         \"\"\"\n\u001b[0;32m--> 248\u001b[0;31m         \u001b[0mXt\u001b[0m\u001b[0;34m,\u001b[0m \u001b[0mfit_params\u001b[0m \u001b[0;34m=\u001b[0m \u001b[0mself\u001b[0m\u001b[0;34m.\u001b[0m\u001b[0m_fit\u001b[0m\u001b[0;34m(\u001b[0m\u001b[0mX\u001b[0m\u001b[0;34m,\u001b[0m \u001b[0my\u001b[0m\u001b[0;34m,\u001b[0m \u001b[0;34m**\u001b[0m\u001b[0mfit_params\u001b[0m\u001b[0;34m)\u001b[0m\u001b[0;34m\u001b[0m\u001b[0m\n\u001b[0m\u001b[1;32m    249\u001b[0m         \u001b[0;32mif\u001b[0m \u001b[0mself\u001b[0m\u001b[0;34m.\u001b[0m\u001b[0m_final_estimator\u001b[0m \u001b[0;32mis\u001b[0m \u001b[0;32mnot\u001b[0m \u001b[0mNone\u001b[0m\u001b[0;34m:\u001b[0m\u001b[0;34m\u001b[0m\u001b[0m\n\u001b[1;32m    250\u001b[0m             \u001b[0mself\u001b[0m\u001b[0;34m.\u001b[0m\u001b[0m_final_estimator\u001b[0m\u001b[0;34m.\u001b[0m\u001b[0mfit\u001b[0m\u001b[0;34m(\u001b[0m\u001b[0mXt\u001b[0m\u001b[0;34m,\u001b[0m \u001b[0my\u001b[0m\u001b[0;34m,\u001b[0m \u001b[0;34m**\u001b[0m\u001b[0mfit_params\u001b[0m\u001b[0;34m)\u001b[0m\u001b[0;34m\u001b[0m\u001b[0m\n",
      "\u001b[0;32m/usr/local/lib/python2.7/site-packages/sklearn/pipeline.pyc\u001b[0m in \u001b[0;36m_fit\u001b[0;34m(self, X, y, **fit_params)\u001b[0m\n\u001b[1;32m    211\u001b[0m                 Xt, fitted_transformer = fit_transform_one_cached(\n\u001b[1;32m    212\u001b[0m                     \u001b[0mcloned_transformer\u001b[0m\u001b[0;34m,\u001b[0m \u001b[0mNone\u001b[0m\u001b[0;34m,\u001b[0m \u001b[0mXt\u001b[0m\u001b[0;34m,\u001b[0m \u001b[0my\u001b[0m\u001b[0;34m,\u001b[0m\u001b[0;34m\u001b[0m\u001b[0m\n\u001b[0;32m--> 213\u001b[0;31m                     **fit_params_steps[name])\n\u001b[0m\u001b[1;32m    214\u001b[0m                 \u001b[0;31m# Replace the transformer of the step with the fitted\u001b[0m\u001b[0;34m\u001b[0m\u001b[0;34m\u001b[0m\u001b[0m\n\u001b[1;32m    215\u001b[0m                 \u001b[0;31m# transformer. This is necessary when loading the transformer\u001b[0m\u001b[0;34m\u001b[0m\u001b[0;34m\u001b[0m\u001b[0m\n",
      "\u001b[0;32m/usr/local/lib/python2.7/site-packages/sklearn/externals/joblib/memory.pyc\u001b[0m in \u001b[0;36m__call__\u001b[0;34m(self, *args, **kwargs)\u001b[0m\n\u001b[1;32m    360\u001b[0m \u001b[0;34m\u001b[0m\u001b[0m\n\u001b[1;32m    361\u001b[0m     \u001b[0;32mdef\u001b[0m \u001b[0m__call__\u001b[0m\u001b[0;34m(\u001b[0m\u001b[0mself\u001b[0m\u001b[0;34m,\u001b[0m \u001b[0;34m*\u001b[0m\u001b[0margs\u001b[0m\u001b[0;34m,\u001b[0m \u001b[0;34m**\u001b[0m\u001b[0mkwargs\u001b[0m\u001b[0;34m)\u001b[0m\u001b[0;34m:\u001b[0m\u001b[0;34m\u001b[0m\u001b[0m\n\u001b[0;32m--> 362\u001b[0;31m         \u001b[0;32mreturn\u001b[0m \u001b[0mself\u001b[0m\u001b[0;34m.\u001b[0m\u001b[0mfunc\u001b[0m\u001b[0;34m(\u001b[0m\u001b[0;34m*\u001b[0m\u001b[0margs\u001b[0m\u001b[0;34m,\u001b[0m \u001b[0;34m**\u001b[0m\u001b[0mkwargs\u001b[0m\u001b[0;34m)\u001b[0m\u001b[0;34m\u001b[0m\u001b[0m\n\u001b[0m\u001b[1;32m    363\u001b[0m \u001b[0;34m\u001b[0m\u001b[0m\n\u001b[1;32m    364\u001b[0m     \u001b[0;32mdef\u001b[0m \u001b[0mcall_and_shelve\u001b[0m\u001b[0;34m(\u001b[0m\u001b[0mself\u001b[0m\u001b[0;34m,\u001b[0m \u001b[0;34m*\u001b[0m\u001b[0margs\u001b[0m\u001b[0;34m,\u001b[0m \u001b[0;34m**\u001b[0m\u001b[0mkwargs\u001b[0m\u001b[0;34m)\u001b[0m\u001b[0;34m:\u001b[0m\u001b[0;34m\u001b[0m\u001b[0m\n",
      "\u001b[0;32m/usr/local/lib/python2.7/site-packages/sklearn/pipeline.pyc\u001b[0m in \u001b[0;36m_fit_transform_one\u001b[0;34m(transformer, weight, X, y, **fit_params)\u001b[0m\n\u001b[1;32m    579\u001b[0m                        **fit_params):\n\u001b[1;32m    580\u001b[0m     \u001b[0;32mif\u001b[0m \u001b[0mhasattr\u001b[0m\u001b[0;34m(\u001b[0m\u001b[0mtransformer\u001b[0m\u001b[0;34m,\u001b[0m \u001b[0;34m'fit_transform'\u001b[0m\u001b[0;34m)\u001b[0m\u001b[0;34m:\u001b[0m\u001b[0;34m\u001b[0m\u001b[0m\n\u001b[0;32m--> 581\u001b[0;31m         \u001b[0mres\u001b[0m \u001b[0;34m=\u001b[0m \u001b[0mtransformer\u001b[0m\u001b[0;34m.\u001b[0m\u001b[0mfit_transform\u001b[0m\u001b[0;34m(\u001b[0m\u001b[0mX\u001b[0m\u001b[0;34m,\u001b[0m \u001b[0my\u001b[0m\u001b[0;34m,\u001b[0m \u001b[0;34m**\u001b[0m\u001b[0mfit_params\u001b[0m\u001b[0;34m)\u001b[0m\u001b[0;34m\u001b[0m\u001b[0m\n\u001b[0m\u001b[1;32m    582\u001b[0m     \u001b[0;32melse\u001b[0m\u001b[0;34m:\u001b[0m\u001b[0;34m\u001b[0m\u001b[0m\n\u001b[1;32m    583\u001b[0m         \u001b[0mres\u001b[0m \u001b[0;34m=\u001b[0m \u001b[0mtransformer\u001b[0m\u001b[0;34m.\u001b[0m\u001b[0mfit\u001b[0m\u001b[0;34m(\u001b[0m\u001b[0mX\u001b[0m\u001b[0;34m,\u001b[0m \u001b[0my\u001b[0m\u001b[0;34m,\u001b[0m \u001b[0;34m**\u001b[0m\u001b[0mfit_params\u001b[0m\u001b[0;34m)\u001b[0m\u001b[0;34m.\u001b[0m\u001b[0mtransform\u001b[0m\u001b[0;34m(\u001b[0m\u001b[0mX\u001b[0m\u001b[0;34m)\u001b[0m\u001b[0;34m\u001b[0m\u001b[0m\n",
      "\u001b[0;32m/usr/local/lib/python2.7/site-packages/sklearn/base.pyc\u001b[0m in \u001b[0;36mfit_transform\u001b[0;34m(self, X, y, **fit_params)\u001b[0m\n\u001b[1;32m    518\u001b[0m         \u001b[0;32melse\u001b[0m\u001b[0;34m:\u001b[0m\u001b[0;34m\u001b[0m\u001b[0m\n\u001b[1;32m    519\u001b[0m             \u001b[0;31m# fit method of arity 2 (supervised transformation)\u001b[0m\u001b[0;34m\u001b[0m\u001b[0;34m\u001b[0m\u001b[0m\n\u001b[0;32m--> 520\u001b[0;31m             \u001b[0;32mreturn\u001b[0m \u001b[0mself\u001b[0m\u001b[0;34m.\u001b[0m\u001b[0mfit\u001b[0m\u001b[0;34m(\u001b[0m\u001b[0mX\u001b[0m\u001b[0;34m,\u001b[0m \u001b[0my\u001b[0m\u001b[0;34m,\u001b[0m \u001b[0;34m**\u001b[0m\u001b[0mfit_params\u001b[0m\u001b[0;34m)\u001b[0m\u001b[0;34m.\u001b[0m\u001b[0mtransform\u001b[0m\u001b[0;34m(\u001b[0m\u001b[0mX\u001b[0m\u001b[0;34m)\u001b[0m\u001b[0;34m\u001b[0m\u001b[0m\n\u001b[0m\u001b[1;32m    521\u001b[0m \u001b[0;34m\u001b[0m\u001b[0m\n\u001b[1;32m    522\u001b[0m \u001b[0;34m\u001b[0m\u001b[0m\n",
      "\u001b[0;32m/usr/local/lib/python2.7/site-packages/pandas/core/generic.pyc\u001b[0m in \u001b[0;36mtransform\u001b[0;34m(self, func, *args, **kwargs)\u001b[0m\n\u001b[1;32m   7090\u001b[0m         \u001b[0;34m@\u001b[0m\u001b[0mAppender\u001b[0m\u001b[0;34m(\u001b[0m\u001b[0m_shared_docs\u001b[0m\u001b[0;34m[\u001b[0m\u001b[0;34m'transform'\u001b[0m\u001b[0;34m]\u001b[0m \u001b[0;34m%\u001b[0m \u001b[0m_shared_doc_kwargs\u001b[0m\u001b[0;34m)\u001b[0m\u001b[0;34m\u001b[0m\u001b[0m\n\u001b[1;32m   7091\u001b[0m         \u001b[0;32mdef\u001b[0m \u001b[0mtransform\u001b[0m\u001b[0;34m(\u001b[0m\u001b[0mself\u001b[0m\u001b[0;34m,\u001b[0m \u001b[0mfunc\u001b[0m\u001b[0;34m,\u001b[0m \u001b[0;34m*\u001b[0m\u001b[0margs\u001b[0m\u001b[0;34m,\u001b[0m \u001b[0;34m**\u001b[0m\u001b[0mkwargs\u001b[0m\u001b[0;34m)\u001b[0m\u001b[0;34m:\u001b[0m\u001b[0;34m\u001b[0m\u001b[0m\n\u001b[0;32m-> 7092\u001b[0;31m             \u001b[0mresult\u001b[0m \u001b[0;34m=\u001b[0m \u001b[0mself\u001b[0m\u001b[0;34m.\u001b[0m\u001b[0magg\u001b[0m\u001b[0;34m(\u001b[0m\u001b[0mfunc\u001b[0m\u001b[0;34m,\u001b[0m \u001b[0;34m*\u001b[0m\u001b[0margs\u001b[0m\u001b[0;34m,\u001b[0m \u001b[0;34m**\u001b[0m\u001b[0mkwargs\u001b[0m\u001b[0;34m)\u001b[0m\u001b[0;34m\u001b[0m\u001b[0m\n\u001b[0m\u001b[1;32m   7093\u001b[0m             \u001b[0;32mif\u001b[0m \u001b[0mis_scalar\u001b[0m\u001b[0;34m(\u001b[0m\u001b[0mresult\u001b[0m\u001b[0;34m)\u001b[0m \u001b[0;32mor\u001b[0m \u001b[0mlen\u001b[0m\u001b[0;34m(\u001b[0m\u001b[0mresult\u001b[0m\u001b[0;34m)\u001b[0m \u001b[0;34m!=\u001b[0m \u001b[0mlen\u001b[0m\u001b[0;34m(\u001b[0m\u001b[0mself\u001b[0m\u001b[0;34m)\u001b[0m\u001b[0;34m:\u001b[0m\u001b[0;34m\u001b[0m\u001b[0m\n\u001b[1;32m   7094\u001b[0m                 raise ValueError(\"transforms cannot produce \"\n",
      "\u001b[0;32m/usr/local/lib/python2.7/site-packages/pandas/core/frame.pyc\u001b[0m in \u001b[0;36maggregate\u001b[0;34m(self, func, axis, *args, **kwargs)\u001b[0m\n\u001b[1;32m   4763\u001b[0m         \u001b[0;32mif\u001b[0m \u001b[0maxis\u001b[0m \u001b[0;34m==\u001b[0m \u001b[0;36m0\u001b[0m\u001b[0;34m:\u001b[0m\u001b[0;34m\u001b[0m\u001b[0m\n\u001b[1;32m   4764\u001b[0m             \u001b[0;32mtry\u001b[0m\u001b[0;34m:\u001b[0m\u001b[0;34m\u001b[0m\u001b[0m\n\u001b[0;32m-> 4765\u001b[0;31m                 \u001b[0mresult\u001b[0m\u001b[0;34m,\u001b[0m \u001b[0mhow\u001b[0m \u001b[0;34m=\u001b[0m \u001b[0mself\u001b[0m\u001b[0;34m.\u001b[0m\u001b[0m_aggregate\u001b[0m\u001b[0;34m(\u001b[0m\u001b[0mfunc\u001b[0m\u001b[0;34m,\u001b[0m \u001b[0maxis\u001b[0m\u001b[0;34m=\u001b[0m\u001b[0;36m0\u001b[0m\u001b[0;34m,\u001b[0m \u001b[0;34m*\u001b[0m\u001b[0margs\u001b[0m\u001b[0;34m,\u001b[0m \u001b[0;34m**\u001b[0m\u001b[0mkwargs\u001b[0m\u001b[0;34m)\u001b[0m\u001b[0;34m\u001b[0m\u001b[0m\n\u001b[0m\u001b[1;32m   4766\u001b[0m             \u001b[0;32mexcept\u001b[0m \u001b[0mTypeError\u001b[0m\u001b[0;34m:\u001b[0m\u001b[0;34m\u001b[0m\u001b[0m\n\u001b[1;32m   4767\u001b[0m                 \u001b[0;32mpass\u001b[0m\u001b[0;34m\u001b[0m\u001b[0m\n",
      "\u001b[0;32m/usr/local/lib/python2.7/site-packages/pandas/core/base.pyc\u001b[0m in \u001b[0;36m_aggregate\u001b[0;34m(self, arg, *args, **kwargs)\u001b[0m\n\u001b[1;32m    533\u001b[0m \u001b[0;34m\u001b[0m\u001b[0m\n\u001b[1;32m    534\u001b[0m             \u001b[0;32mreturn\u001b[0m \u001b[0mresult\u001b[0m\u001b[0;34m,\u001b[0m \u001b[0mTrue\u001b[0m\u001b[0;34m\u001b[0m\u001b[0m\n\u001b[0;32m--> 535\u001b[0;31m         \u001b[0;32melif\u001b[0m \u001b[0mis_list_like\u001b[0m\u001b[0;34m(\u001b[0m\u001b[0marg\u001b[0m\u001b[0;34m)\u001b[0m \u001b[0;32mand\u001b[0m \u001b[0marg\u001b[0m \u001b[0;32mnot\u001b[0m \u001b[0;32min\u001b[0m \u001b[0mcompat\u001b[0m\u001b[0;34m.\u001b[0m\u001b[0mstring_types\u001b[0m\u001b[0;34m:\u001b[0m\u001b[0;34m\u001b[0m\u001b[0m\n\u001b[0m\u001b[1;32m    536\u001b[0m             \u001b[0;31m# we require a list, but not an 'str'\u001b[0m\u001b[0;34m\u001b[0m\u001b[0;34m\u001b[0m\u001b[0m\n\u001b[1;32m    537\u001b[0m             return self._aggregate_multiple_funcs(arg,\n",
      "\u001b[0;32m/usr/local/lib/python2.7/site-packages/pandas/core/generic.pyc\u001b[0m in \u001b[0;36m__nonzero__\u001b[0;34m(self)\u001b[0m\n\u001b[1;32m   1119\u001b[0m         raise ValueError(\"The truth value of a {0} is ambiguous. \"\n\u001b[1;32m   1120\u001b[0m                          \u001b[0;34m\"Use a.empty, a.bool(), a.item(), a.any() or a.all().\"\u001b[0m\u001b[0;34m\u001b[0m\u001b[0m\n\u001b[0;32m-> 1121\u001b[0;31m                          .format(self.__class__.__name__))\n\u001b[0m\u001b[1;32m   1122\u001b[0m \u001b[0;34m\u001b[0m\u001b[0m\n\u001b[1;32m   1123\u001b[0m     \u001b[0m__bool__\u001b[0m \u001b[0;34m=\u001b[0m \u001b[0m__nonzero__\u001b[0m\u001b[0;34m\u001b[0m\u001b[0m\n",
      "\u001b[0;31mValueError\u001b[0m: The truth value of a DataFrame is ambiguous. Use a.empty, a.bool(), a.item(), a.any() or a.all()."
     ]
    }
   ],
   "source": [
    "from sklearn.pipeline import make_pipeline\n",
    "\n",
    "model = make_pipeline(FeatureConverting(),\n",
    "                      LogisticRegression())\n",
    "model.fit(train_off[['Discount_rate', 'Distance', 'Date_received']], train_off['label'])"
   ]
  },
  {
   "cell_type": "code",
   "execution_count": 37,
   "metadata": {},
   "outputs": [
    {
     "data": {
      "text/plain": [
       "0    20160712\n",
       "1    20160706\n",
       "2    20160727\n",
       "3    20160727\n",
       "4    20160708\n",
       "Name: Date_received, dtype: int64"
      ]
     },
     "execution_count": 37,
     "metadata": {},
     "output_type": "execute_result"
    }
   ],
   "source": [
    "# 单模型提交\n"
   ]
  },
  {
   "cell_type": "code",
   "execution_count": 23,
   "metadata": {},
   "outputs": [],
   "source": [
    "feats = ['Discount_rate', 'Distance', 'Date_received', 'Date']\n",
    "y = dfoff['target']\n",
    "X_train, X_test, y_train, y_test = train_test_split(dfoff[feats], y)"
   ]
  },
  {
   "cell_type": "code",
   "execution_count": 24,
   "metadata": {},
   "outputs": [
    {
     "data": {
      "text/plain": [
       "array([0.9951602 , 0.99538052, 0.99521335, 0.99548307, 0.99564263])"
      ]
     },
     "execution_count": 24,
     "metadata": {},
     "output_type": "execute_result"
    }
   ],
   "source": [
    "from sklearn.linear_model import LogisticRegression\n",
    "# clf = LogisticRegression().fit(X_train, y_train)\n",
    "clf = LogisticRegression()\n",
    "\n",
    "from sklearn.model_selection import cross_val_score\n",
    "scores = cross_val_score(clf, X_train, y_train, cv=5)\n",
    "scores"
   ]
  },
  {
   "cell_type": "code",
   "execution_count": null,
   "metadata": {},
   "outputs": [],
   "source": [
    "clf = LogisticRegression().fit(X_train, y_train)\n",
    "y_pred = clf.predict(dftest[feats])\n",
    "\n",
    "from sklearn.metrics import accuracy_score\n",
    "accuracy_score(y_test, y_pred)"
   ]
  },
  {
   "cell_type": "code",
   "execution_count": 32,
   "metadata": {},
   "outputs": [
    {
     "ename": "NameError",
     "evalue": "name 'Date_received' is not defined",
     "output_type": "error",
     "traceback": [
      "\u001b[0;31m---------------------------------------------------------------------------\u001b[0m",
      "\u001b[0;31mNameError\u001b[0m                                 Traceback (most recent call last)",
      "\u001b[0;32m<ipython-input-32-62ffe996d52f>\u001b[0m in \u001b[0;36m<module>\u001b[0;34m()\u001b[0m\n\u001b[1;32m      1\u001b[0m \u001b[0msubmit\u001b[0m \u001b[0;34m=\u001b[0m \u001b[0mdftest\u001b[0m\u001b[0;34m[\u001b[0m\u001b[0;34m[\u001b[0m\u001b[0;34m'User_id'\u001b[0m\u001b[0;34m,\u001b[0m \u001b[0;34m'Coupon_id'\u001b[0m\u001b[0;34m]\u001b[0m\u001b[0;34m]\u001b[0m\u001b[0;34m\u001b[0m\u001b[0m\n\u001b[0;32m----> 2\u001b[0;31m \u001b[0msubmit\u001b[0m\u001b[0;34m[\u001b[0m\u001b[0;34m'Date_received'\u001b[0m\u001b[0;34m]\u001b[0m \u001b[0;34m=\u001b[0m \u001b[0mDate_received\u001b[0m\u001b[0;34m\u001b[0m\u001b[0m\n\u001b[0m\u001b[1;32m      3\u001b[0m \u001b[0msubmit\u001b[0m\u001b[0;34m[\u001b[0m\u001b[0;34m'Probability'\u001b[0m\u001b[0;34m]\u001b[0m \u001b[0;34m=\u001b[0m \u001b[0my_pred\u001b[0m\u001b[0;34m[\u001b[0m\u001b[0;34m:\u001b[0m\u001b[0;34m,\u001b[0m\u001b[0;36m0\u001b[0m\u001b[0;34m]\u001b[0m\u001b[0;34m\u001b[0m\u001b[0m\n\u001b[1;32m      4\u001b[0m \u001b[0msubmit\u001b[0m\u001b[0;34m.\u001b[0m\u001b[0mto_csv\u001b[0m\u001b[0;34m(\u001b[0m\u001b[0;34m'submission.csv'\u001b[0m\u001b[0;34m,\u001b[0m \u001b[0mheader\u001b[0m\u001b[0;34m=\u001b[0m\u001b[0mNone\u001b[0m\u001b[0;34m,\u001b[0m \u001b[0mindex\u001b[0m\u001b[0;34m=\u001b[0m\u001b[0mFalse\u001b[0m\u001b[0;34m)\u001b[0m\u001b[0;34m\u001b[0m\u001b[0m\n",
      "\u001b[0;31mNameError\u001b[0m: name 'Date_received' is not defined"
     ]
    }
   ],
   "source": [
    "submit = dftest[['User_id', 'Coupon_id']]\n",
    "submit['Date_received'] = Date_received\n",
    "submit['Probability'] = y_pred[:,0]\n",
    "submit.to_csv('submission.csv', header=None, index=False)"
   ]
  },
  {
   "cell_type": "markdown",
   "metadata": {},
   "source": [
    "## Feature Extract"
   ]
  },
  {
   "cell_type": "markdown",
   "metadata": {},
   "source": [
    "### 1. 打折率（Discount_rate）"
   ]
  },
  {
   "cell_type": "code",
   "execution_count": 127,
   "metadata": {},
   "outputs": [
    {
     "name": "stdout",
     "output_type": "stream",
     "text": [
      "[nan '150:20' '20:1' '200:20' '30:5' '50:10' '10:5' '100:10' '200:30'\n",
      " '20:5' '30:10' '50:5' '150:10' '100:30' '200:50' '100:50' '300:30'\n",
      " '50:20' '0.9' '10:1' '30:1' '0.95' '100:5' '5:1' '100:20' '0.8' '50:1'\n",
      " '200:10' '300:20' '100:1' '150:30' '300:50' '20:10' '0.85' '0.6' '150:50'\n",
      " '0.75' '0.5' '200:5' '0.7' '30:20' '300:10' '0.2' '50:30' '200:100'\n",
      " '150:5']\n"
     ]
    }
   ],
   "source": [
    "print(dfoff['Discount_rate'].unique())"
   ]
  },
  {
   "cell_type": "markdown",
   "metadata": {},
   "source": [
    "根据打印的结果来看，打折率分为 3 种情况：\n",
    "* ‘null’ 表示没有打折\n",
    "* [0,1] 表示折扣率\n",
    "* x:y 表示满 x 减 y\n",
    "\n",
    "那我们的处理方式可以构建 4 个函数，分别提取 4 种特征，分别是：\n",
    "\n",
    "* 打折类型：getDiscountType()\n",
    "* 折扣率：convertRate()\n",
    "* 满多少：getDiscountMan()\n",
    "* 减多少：getDiscountJian()"
   ]
  },
  {
   "cell_type": "code",
   "execution_count": 128,
   "metadata": {},
   "outputs": [],
   "source": [
    "def getDiscountType(row):\n",
    "    if row is np.nan:\n",
    "        return np.nan\n",
    "    elif ':' in row:\n",
    "        return 1\n",
    "    else:\n",
    "        return 0\n",
    "\n",
    "def convertRate(row):\n",
    "    \"\"\"Convert discount to rate\"\"\"\n",
    "    if row is np.nan:\n",
    "        return 1.0\n",
    "    elif ':' in row:\n",
    "        rows = row.split(':')\n",
    "        return (float(rows[0])-float(rows[1])) / float(rows[0])\n",
    "    else:\n",
    "        return float(row)\n",
    "\n",
    "def getDiscountMan(row):\n",
    "    if row is np.nan:\n",
    "        return 0\n",
    "    if ':' in row:\n",
    "        rows = row.split(':')\n",
    "        return int(rows[0])\n",
    "    else:\n",
    "        return 0\n",
    "\n",
    "def getDiscountJian(row):\n",
    "    if row is np.nan:\n",
    "        return 0\n",
    "    if ':' in row:\n",
    "        rows = row.split(':')\n",
    "        return int(rows[1])\n",
    "    else:\n",
    "        return 0\n",
    "\n",
    "def processData(df):\n",
    "   # convert discount_rate\n",
    "    df['discount_type'] = df['Discount_rate'].apply(getDiscountType)\n",
    "    df['discount_rate'] = df['Discount_rate'].apply(convertRate)\n",
    "    df['discount_man'] = df['Discount_rate'].apply(getDiscountMan)\n",
    "    df['discount_jian'] = df['Discount_rate'].apply(getDiscountJian)\n",
    "\n",
    "    print(df['discount_rate'].unique())\n",
    "\n",
    "    return df"
   ]
  },
  {
   "cell_type": "code",
   "execution_count": 129,
   "metadata": {},
   "outputs": [
    {
     "name": "stdout",
     "output_type": "stream",
     "text": [
      "[1.         0.86666667 0.95       0.9        0.83333333 0.8\n",
      " 0.5        0.85       0.75       0.66666667 0.93333333 0.7\n",
      " 0.6        0.96666667 0.98       0.99       0.975      0.33333333\n",
      " 0.2        0.4       ]\n",
      "[0.83333333 0.9        0.96666667 0.8        0.95       0.75\n",
      " 0.98       0.5        0.86666667 0.6        0.66666667 0.7\n",
      " 0.85       0.33333333 0.94       0.93333333 0.975      0.99      ]\n"
     ]
    }
   ],
   "source": [
    "dfoff = processData(dfoff)\n",
    "dftest = processData(dftest)"
   ]
  },
  {
   "cell_type": "code",
   "execution_count": 130,
   "metadata": {},
   "outputs": [
    {
     "data": {
      "text/html": [
       "<div>\n",
       "<style scoped>\n",
       "    .dataframe tbody tr th:only-of-type {\n",
       "        vertical-align: middle;\n",
       "    }\n",
       "\n",
       "    .dataframe tbody tr th {\n",
       "        vertical-align: top;\n",
       "    }\n",
       "\n",
       "    .dataframe thead th {\n",
       "        text-align: right;\n",
       "    }\n",
       "</style>\n",
       "<table border=\"1\" class=\"dataframe\">\n",
       "  <thead>\n",
       "    <tr style=\"text-align: right;\">\n",
       "      <th></th>\n",
       "      <th>User_id</th>\n",
       "      <th>Merchant_id</th>\n",
       "      <th>Coupon_id</th>\n",
       "      <th>Distance</th>\n",
       "      <th>Date_received</th>\n",
       "      <th>Date</th>\n",
       "      <th>discount_type</th>\n",
       "      <th>discount_rate</th>\n",
       "      <th>discount_man</th>\n",
       "      <th>discount_jian</th>\n",
       "    </tr>\n",
       "  </thead>\n",
       "  <tbody>\n",
       "    <tr>\n",
       "      <th>count</th>\n",
       "      <td>1.754884e+06</td>\n",
       "      <td>1.754884e+06</td>\n",
       "      <td>1.053282e+06</td>\n",
       "      <td>1.648881e+06</td>\n",
       "      <td>1.053282e+06</td>\n",
       "      <td>7.769840e+05</td>\n",
       "      <td>1.053282e+06</td>\n",
       "      <td>1.754884e+06</td>\n",
       "      <td>1.754884e+06</td>\n",
       "      <td>1.754884e+06</td>\n",
       "    </tr>\n",
       "    <tr>\n",
       "      <th>mean</th>\n",
       "      <td>3.689255e+06</td>\n",
       "      <td>4.038808e+03</td>\n",
       "      <td>6.815398e+03</td>\n",
       "      <td>2.361636e+00</td>\n",
       "      <td>2.016032e+07</td>\n",
       "      <td>2.016040e+07</td>\n",
       "      <td>9.684111e-01</td>\n",
       "      <td>9.065689e-01</td>\n",
       "      <td>4.707850e+01</td>\n",
       "      <td>6.226428e+00</td>\n",
       "    </tr>\n",
       "    <tr>\n",
       "      <th>std</th>\n",
       "      <td>2.123428e+06</td>\n",
       "      <td>2.435963e+03</td>\n",
       "      <td>4.174276e+03</td>\n",
       "      <td>3.483974e+00</td>\n",
       "      <td>1.771416e+02</td>\n",
       "      <td>1.621500e+02</td>\n",
       "      <td>1.749030e-01</td>\n",
       "      <td>1.035167e-01</td>\n",
       "      <td>6.801246e+01</td>\n",
       "      <td>8.730104e+00</td>\n",
       "    </tr>\n",
       "    <tr>\n",
       "      <th>min</th>\n",
       "      <td>4.000000e+00</td>\n",
       "      <td>1.000000e+00</td>\n",
       "      <td>1.000000e+00</td>\n",
       "      <td>0.000000e+00</td>\n",
       "      <td>2.016010e+07</td>\n",
       "      <td>2.016010e+07</td>\n",
       "      <td>0.000000e+00</td>\n",
       "      <td>2.000000e-01</td>\n",
       "      <td>0.000000e+00</td>\n",
       "      <td>0.000000e+00</td>\n",
       "    </tr>\n",
       "    <tr>\n",
       "      <th>25%</th>\n",
       "      <td>1.845052e+06</td>\n",
       "      <td>1.983000e+03</td>\n",
       "      <td>2.840000e+03</td>\n",
       "      <td>0.000000e+00</td>\n",
       "      <td>2.016013e+07</td>\n",
       "      <td>2.016031e+07</td>\n",
       "      <td>1.000000e+00</td>\n",
       "      <td>8.333333e-01</td>\n",
       "      <td>0.000000e+00</td>\n",
       "      <td>0.000000e+00</td>\n",
       "    </tr>\n",
       "    <tr>\n",
       "      <th>50%</th>\n",
       "      <td>3.694446e+06</td>\n",
       "      <td>3.532000e+03</td>\n",
       "      <td>7.430000e+03</td>\n",
       "      <td>0.000000e+00</td>\n",
       "      <td>2.016032e+07</td>\n",
       "      <td>2.016042e+07</td>\n",
       "      <td>1.000000e+00</td>\n",
       "      <td>9.000000e-01</td>\n",
       "      <td>2.000000e+01</td>\n",
       "      <td>5.000000e+00</td>\n",
       "    </tr>\n",
       "    <tr>\n",
       "      <th>75%</th>\n",
       "      <td>5.528759e+06</td>\n",
       "      <td>6.329000e+03</td>\n",
       "      <td>1.032300e+04</td>\n",
       "      <td>3.000000e+00</td>\n",
       "      <td>2.016051e+07</td>\n",
       "      <td>2.016052e+07</td>\n",
       "      <td>1.000000e+00</td>\n",
       "      <td>1.000000e+00</td>\n",
       "      <td>1.000000e+02</td>\n",
       "      <td>1.000000e+01</td>\n",
       "    </tr>\n",
       "    <tr>\n",
       "      <th>max</th>\n",
       "      <td>7.361032e+06</td>\n",
       "      <td>8.856000e+03</td>\n",
       "      <td>1.404500e+04</td>\n",
       "      <td>1.000000e+01</td>\n",
       "      <td>2.016062e+07</td>\n",
       "      <td>2.016063e+07</td>\n",
       "      <td>1.000000e+00</td>\n",
       "      <td>1.000000e+00</td>\n",
       "      <td>3.000000e+02</td>\n",
       "      <td>1.000000e+02</td>\n",
       "    </tr>\n",
       "  </tbody>\n",
       "</table>\n",
       "</div>"
      ],
      "text/plain": [
       "            User_id   Merchant_id     Coupon_id      Distance  Date_received  \\\n",
       "count  1.754884e+06  1.754884e+06  1.053282e+06  1.648881e+06   1.053282e+06   \n",
       "mean   3.689255e+06  4.038808e+03  6.815398e+03  2.361636e+00   2.016032e+07   \n",
       "std    2.123428e+06  2.435963e+03  4.174276e+03  3.483974e+00   1.771416e+02   \n",
       "min    4.000000e+00  1.000000e+00  1.000000e+00  0.000000e+00   2.016010e+07   \n",
       "25%    1.845052e+06  1.983000e+03  2.840000e+03  0.000000e+00   2.016013e+07   \n",
       "50%    3.694446e+06  3.532000e+03  7.430000e+03  0.000000e+00   2.016032e+07   \n",
       "75%    5.528759e+06  6.329000e+03  1.032300e+04  3.000000e+00   2.016051e+07   \n",
       "max    7.361032e+06  8.856000e+03  1.404500e+04  1.000000e+01   2.016062e+07   \n",
       "\n",
       "               Date  discount_type  discount_rate  discount_man  discount_jian  \n",
       "count  7.769840e+05   1.053282e+06   1.754884e+06  1.754884e+06   1.754884e+06  \n",
       "mean   2.016040e+07   9.684111e-01   9.065689e-01  4.707850e+01   6.226428e+00  \n",
       "std    1.621500e+02   1.749030e-01   1.035167e-01  6.801246e+01   8.730104e+00  \n",
       "min    2.016010e+07   0.000000e+00   2.000000e-01  0.000000e+00   0.000000e+00  \n",
       "25%    2.016031e+07   1.000000e+00   8.333333e-01  0.000000e+00   0.000000e+00  \n",
       "50%    2.016042e+07   1.000000e+00   9.000000e-01  2.000000e+01   5.000000e+00  \n",
       "75%    2.016052e+07   1.000000e+00   1.000000e+00  1.000000e+02   1.000000e+01  \n",
       "max    2.016063e+07   1.000000e+00   1.000000e+00  3.000000e+02   1.000000e+02  "
      ]
     },
     "execution_count": 130,
     "metadata": {},
     "output_type": "execute_result"
    }
   ],
   "source": [
    "dfoff.describe()"
   ]
  },
  {
   "cell_type": "markdown",
   "metadata": {},
   "source": [
    "### 2. 距离（Distance）\n",
    "距离字段表示用户与商店的地理距离，显然，距离的远近也会影响到优惠券的使用与否。那么，我们就可以把距离也作为一个特征。首先看一下距离有哪些特征值："
   ]
  },
  {
   "cell_type": "code",
   "execution_count": 131,
   "metadata": {},
   "outputs": [
    {
     "name": "stdout",
     "output_type": "stream",
     "text": [
      "[ 0.  1. nan  2. 10.  4.  7.  9.  3.  5.  6.  8.]\n"
     ]
    }
   ],
   "source": [
    "print(dfoff['Distance'].unique())"
   ]
  },
  {
   "cell_type": "code",
   "execution_count": 132,
   "metadata": {},
   "outputs": [
    {
     "name": "stdout",
     "output_type": "stream",
     "text": [
      "[ 0  1 -1  2 10  4  7  9  3  5  6  8]\n",
      "[ 1 -1  5  2  0 10  3  6  7  4  9  8]\n"
     ]
    }
   ],
   "source": [
    "# convert distance\n",
    "dfoff['distance'] = dfoff['Distance'].fillna(-1).astype(int)\n",
    "print(dfoff['distance'].unique())\n",
    "dftest['distance'] = dftest['Distance'].fillna(-1).astype(int)\n",
    "print(dftest['distance'].unique())"
   ]
  },
  {
   "cell_type": "code",
   "execution_count": 133,
   "metadata": {},
   "outputs": [
    {
     "data": {
      "text/html": [
       "<div>\n",
       "<style scoped>\n",
       "    .dataframe tbody tr th:only-of-type {\n",
       "        vertical-align: middle;\n",
       "    }\n",
       "\n",
       "    .dataframe tbody tr th {\n",
       "        vertical-align: top;\n",
       "    }\n",
       "\n",
       "    .dataframe thead th {\n",
       "        text-align: right;\n",
       "    }\n",
       "</style>\n",
       "<table border=\"1\" class=\"dataframe\">\n",
       "  <thead>\n",
       "    <tr style=\"text-align: right;\">\n",
       "      <th></th>\n",
       "      <th>User_id</th>\n",
       "      <th>Merchant_id</th>\n",
       "      <th>Coupon_id</th>\n",
       "      <th>Distance</th>\n",
       "      <th>Date_received</th>\n",
       "      <th>Date</th>\n",
       "      <th>discount_type</th>\n",
       "      <th>discount_rate</th>\n",
       "      <th>discount_man</th>\n",
       "      <th>discount_jian</th>\n",
       "      <th>distance</th>\n",
       "    </tr>\n",
       "  </thead>\n",
       "  <tbody>\n",
       "    <tr>\n",
       "      <th>count</th>\n",
       "      <td>1.754884e+06</td>\n",
       "      <td>1.754884e+06</td>\n",
       "      <td>1.053282e+06</td>\n",
       "      <td>1.648881e+06</td>\n",
       "      <td>1.053282e+06</td>\n",
       "      <td>7.769840e+05</td>\n",
       "      <td>1.053282e+06</td>\n",
       "      <td>1.754884e+06</td>\n",
       "      <td>1.754884e+06</td>\n",
       "      <td>1.754884e+06</td>\n",
       "      <td>1.754884e+06</td>\n",
       "    </tr>\n",
       "    <tr>\n",
       "      <th>mean</th>\n",
       "      <td>3.689255e+06</td>\n",
       "      <td>4.038808e+03</td>\n",
       "      <td>6.815398e+03</td>\n",
       "      <td>2.361636e+00</td>\n",
       "      <td>2.016032e+07</td>\n",
       "      <td>2.016040e+07</td>\n",
       "      <td>9.684111e-01</td>\n",
       "      <td>9.065689e-01</td>\n",
       "      <td>4.707850e+01</td>\n",
       "      <td>6.226428e+00</td>\n",
       "      <td>2.158577e+00</td>\n",
       "    </tr>\n",
       "    <tr>\n",
       "      <th>std</th>\n",
       "      <td>2.123428e+06</td>\n",
       "      <td>2.435963e+03</td>\n",
       "      <td>4.174276e+03</td>\n",
       "      <td>3.483974e+00</td>\n",
       "      <td>1.771416e+02</td>\n",
       "      <td>1.621500e+02</td>\n",
       "      <td>1.749030e-01</td>\n",
       "      <td>1.035167e-01</td>\n",
       "      <td>6.801246e+01</td>\n",
       "      <td>8.730104e+00</td>\n",
       "      <td>3.470772e+00</td>\n",
       "    </tr>\n",
       "    <tr>\n",
       "      <th>min</th>\n",
       "      <td>4.000000e+00</td>\n",
       "      <td>1.000000e+00</td>\n",
       "      <td>1.000000e+00</td>\n",
       "      <td>0.000000e+00</td>\n",
       "      <td>2.016010e+07</td>\n",
       "      <td>2.016010e+07</td>\n",
       "      <td>0.000000e+00</td>\n",
       "      <td>2.000000e-01</td>\n",
       "      <td>0.000000e+00</td>\n",
       "      <td>0.000000e+00</td>\n",
       "      <td>-1.000000e+00</td>\n",
       "    </tr>\n",
       "    <tr>\n",
       "      <th>25%</th>\n",
       "      <td>1.845052e+06</td>\n",
       "      <td>1.983000e+03</td>\n",
       "      <td>2.840000e+03</td>\n",
       "      <td>0.000000e+00</td>\n",
       "      <td>2.016013e+07</td>\n",
       "      <td>2.016031e+07</td>\n",
       "      <td>1.000000e+00</td>\n",
       "      <td>8.333333e-01</td>\n",
       "      <td>0.000000e+00</td>\n",
       "      <td>0.000000e+00</td>\n",
       "      <td>0.000000e+00</td>\n",
       "    </tr>\n",
       "    <tr>\n",
       "      <th>50%</th>\n",
       "      <td>3.694446e+06</td>\n",
       "      <td>3.532000e+03</td>\n",
       "      <td>7.430000e+03</td>\n",
       "      <td>0.000000e+00</td>\n",
       "      <td>2.016032e+07</td>\n",
       "      <td>2.016042e+07</td>\n",
       "      <td>1.000000e+00</td>\n",
       "      <td>9.000000e-01</td>\n",
       "      <td>2.000000e+01</td>\n",
       "      <td>5.000000e+00</td>\n",
       "      <td>0.000000e+00</td>\n",
       "    </tr>\n",
       "    <tr>\n",
       "      <th>75%</th>\n",
       "      <td>5.528759e+06</td>\n",
       "      <td>6.329000e+03</td>\n",
       "      <td>1.032300e+04</td>\n",
       "      <td>3.000000e+00</td>\n",
       "      <td>2.016051e+07</td>\n",
       "      <td>2.016052e+07</td>\n",
       "      <td>1.000000e+00</td>\n",
       "      <td>1.000000e+00</td>\n",
       "      <td>1.000000e+02</td>\n",
       "      <td>1.000000e+01</td>\n",
       "      <td>3.000000e+00</td>\n",
       "    </tr>\n",
       "    <tr>\n",
       "      <th>max</th>\n",
       "      <td>7.361032e+06</td>\n",
       "      <td>8.856000e+03</td>\n",
       "      <td>1.404500e+04</td>\n",
       "      <td>1.000000e+01</td>\n",
       "      <td>2.016062e+07</td>\n",
       "      <td>2.016063e+07</td>\n",
       "      <td>1.000000e+00</td>\n",
       "      <td>1.000000e+00</td>\n",
       "      <td>3.000000e+02</td>\n",
       "      <td>1.000000e+02</td>\n",
       "      <td>1.000000e+01</td>\n",
       "    </tr>\n",
       "  </tbody>\n",
       "</table>\n",
       "</div>"
      ],
      "text/plain": [
       "            User_id   Merchant_id     Coupon_id      Distance  Date_received  \\\n",
       "count  1.754884e+06  1.754884e+06  1.053282e+06  1.648881e+06   1.053282e+06   \n",
       "mean   3.689255e+06  4.038808e+03  6.815398e+03  2.361636e+00   2.016032e+07   \n",
       "std    2.123428e+06  2.435963e+03  4.174276e+03  3.483974e+00   1.771416e+02   \n",
       "min    4.000000e+00  1.000000e+00  1.000000e+00  0.000000e+00   2.016010e+07   \n",
       "25%    1.845052e+06  1.983000e+03  2.840000e+03  0.000000e+00   2.016013e+07   \n",
       "50%    3.694446e+06  3.532000e+03  7.430000e+03  0.000000e+00   2.016032e+07   \n",
       "75%    5.528759e+06  6.329000e+03  1.032300e+04  3.000000e+00   2.016051e+07   \n",
       "max    7.361032e+06  8.856000e+03  1.404500e+04  1.000000e+01   2.016062e+07   \n",
       "\n",
       "               Date  discount_type  discount_rate  discount_man  \\\n",
       "count  7.769840e+05   1.053282e+06   1.754884e+06  1.754884e+06   \n",
       "mean   2.016040e+07   9.684111e-01   9.065689e-01  4.707850e+01   \n",
       "std    1.621500e+02   1.749030e-01   1.035167e-01  6.801246e+01   \n",
       "min    2.016010e+07   0.000000e+00   2.000000e-01  0.000000e+00   \n",
       "25%    2.016031e+07   1.000000e+00   8.333333e-01  0.000000e+00   \n",
       "50%    2.016042e+07   1.000000e+00   9.000000e-01  2.000000e+01   \n",
       "75%    2.016052e+07   1.000000e+00   1.000000e+00  1.000000e+02   \n",
       "max    2.016063e+07   1.000000e+00   1.000000e+00  3.000000e+02   \n",
       "\n",
       "       discount_jian      distance  \n",
       "count   1.754884e+06  1.754884e+06  \n",
       "mean    6.226428e+00  2.158577e+00  \n",
       "std     8.730104e+00  3.470772e+00  \n",
       "min     0.000000e+00 -1.000000e+00  \n",
       "25%     0.000000e+00  0.000000e+00  \n",
       "50%     5.000000e+00  0.000000e+00  \n",
       "75%     1.000000e+01  3.000000e+00  \n",
       "max     1.000000e+02  1.000000e+01  "
      ]
     },
     "execution_count": 133,
     "metadata": {},
     "output_type": "execute_result"
    }
   ],
   "source": [
    "dfoff.describe()"
   ]
  },
  {
   "cell_type": "code",
   "execution_count": 134,
   "metadata": {},
   "outputs": [
    {
     "data": {
      "text/plain": [
       "977900"
      ]
     },
     "execution_count": 134,
     "metadata": {},
     "output_type": "execute_result"
    }
   ],
   "source": [
    "dfoff['Date'].isna().sum()"
   ]
  },
  {
   "cell_type": "markdown",
   "metadata": {},
   "source": [
    "### 3. 领劵日期（Date_received）\n",
    "是还有一点很重要的是领券日期，因为一般而言，周末领取优惠券去消费的可能性更大一些。因此，我们可以构建关于领券日期的一些特征：\n",
    "\n",
    "* weekday : {null, 1, 2, 3, 4, 5, 6, 7}\n",
    "* weekday_type : {1, 0}（周六和周日为1，其他为0）\n",
    "* Weekday_1 : {1, 0, 0, 0, 0, 0, 0}\n",
    "* Weekday_2 : {0, 1, 0, 0, 0, 0, 0}\n",
    "* Weekday_3 : {0, 0, 1, 0, 0, 0, 0}\n",
    "* Weekday_4 : {0, 0, 0, 1, 0, 0, 0}\n",
    "* Weekday_5 : {0, 0, 0, 0, 1, 0, 0}\n",
    "* Weekday_6 : {0, 0, 0, 0, 0, 1, 0}\n",
    "* Weekday_7 : {0, 0, 0, 0, 0, 0, 1}"
   ]
  },
  {
   "cell_type": "code",
   "execution_count": 135,
   "metadata": {},
   "outputs": [],
   "source": [
    "def getWeekday(row):\n",
    "    if row == 'nan':\n",
    "        return np.nan\n",
    "    elif row is np.nan:\n",
    "        return np.nan\n",
    "    else:\n",
    "        return date(int(row[0:4]), int(row[4:6]), int(row[6:8])).weekday() + 1\n",
    "\n",
    "dfoff['weekday'] = dfoff['Date_received'].astype(str).apply(getWeekday)\n",
    "dftest['weekday'] = dftest['Date_received'].astype(str).apply(getWeekday)\n",
    "\n",
    "# weekday_type :  周六和周日为1，其他为0\n",
    "dfoff['weekday_tpye'] = dfoff['weekday'].apply(lambda x: 1 if x in [6, 7] else 0)\n",
    "dftest['weekday_tpye'] = dftest['weekday'].apply(lambda x: 1 if x in [6, 7] else 0)\n",
    "\n",
    "# change weekday to one-hot encoding\n",
    "weekdaycols = ['weekday_' + str(i) for i in range(1,8)]\n",
    "\n",
    "tmpdf = pd.get_dummies(dfoff['weekday'])\n",
    "tmpdf.columns = weekdaycols\n",
    "dfoff[weekdaycols] = tmpdf\n",
    "\n",
    "tmpdf = pd.get_dummies(dftest['weekday'])\n",
    "tmpdf.columns = weekdaycols\n",
    "dftest[weekdaycols] = tmpdf"
   ]
  },
  {
   "cell_type": "markdown",
   "metadata": {},
   "source": [
    "### 标注标签 Label\n",
    "\n",
    "有了特征之后，我们还需要对训练样本进行 label 标注，即确定哪些是正样本（y = 1），哪些是负样本（y = 0）。我们要预测的是用户在领取优惠券之后 15 之内的消费情况。所以，总共有三种情况：\n",
    "\n",
    "1.Date_received == ‘null’：\n",
    "\n",
    "表示没有领到优惠券，无需考虑，y = -1\n",
    "\n",
    "2.(Date_received != ‘null’) & (Date != ‘null’) & (Date – Date_received <= 15)：\n",
    "\n",
    "表示领取优惠券且在15天内使用，即正样本，y = 1\n",
    "\n",
    "3.(Date_received != ‘null’) & ((Date == ‘null’) | (Date – Date_received > 15))：\n",
    "\n",
    "表示领取优惠券未在在15天内使用，即负样本，y = 0\n",
    "\n",
    "好了，知道规则之后，我们就可以定义标签备注函数了。"
   ]
  },
  {
   "cell_type": "code",
   "execution_count": 136,
   "metadata": {},
   "outputs": [
    {
     "ename": "KeyboardInterrupt",
     "evalue": "",
     "output_type": "error",
     "traceback": [
      "\u001b[0;31m---------------------------------------------------------------------------\u001b[0m",
      "\u001b[0;31mKeyboardInterrupt\u001b[0m                         Traceback (most recent call last)",
      "\u001b[0;32m<ipython-input-136-c3da7249a81a>\u001b[0m in \u001b[0;36m<module>\u001b[0;34m()\u001b[0m\n\u001b[1;32m      8\u001b[0m     \u001b[0;32mreturn\u001b[0m \u001b[0;36m0\u001b[0m\u001b[0;34m\u001b[0m\u001b[0m\n\u001b[1;32m      9\u001b[0m \u001b[0;34m\u001b[0m\u001b[0m\n\u001b[0;32m---> 10\u001b[0;31m \u001b[0mdfoff\u001b[0m\u001b[0;34m[\u001b[0m\u001b[0;34m'label'\u001b[0m\u001b[0;34m]\u001b[0m \u001b[0;34m=\u001b[0m \u001b[0mdfoff\u001b[0m\u001b[0;34m.\u001b[0m\u001b[0mapply\u001b[0m\u001b[0;34m(\u001b[0m\u001b[0mlabel\u001b[0m\u001b[0;34m,\u001b[0m \u001b[0maxis\u001b[0m\u001b[0;34m=\u001b[0m\u001b[0;36m1\u001b[0m\u001b[0;34m)\u001b[0m\u001b[0;34m\u001b[0m\u001b[0m\n\u001b[0m",
      "\u001b[0;32m/Users/Bin/anaconda2/envs/py2/lib/python2.7/site-packages/pandas/core/frame.pyc\u001b[0m in \u001b[0;36mapply\u001b[0;34m(self, func, axis, broadcast, raw, reduce, result_type, args, **kwds)\u001b[0m\n\u001b[1;32m   6012\u001b[0m                          \u001b[0margs\u001b[0m\u001b[0;34m=\u001b[0m\u001b[0margs\u001b[0m\u001b[0;34m,\u001b[0m\u001b[0;34m\u001b[0m\u001b[0m\n\u001b[1;32m   6013\u001b[0m                          kwds=kwds)\n\u001b[0;32m-> 6014\u001b[0;31m         \u001b[0;32mreturn\u001b[0m \u001b[0mop\u001b[0m\u001b[0;34m.\u001b[0m\u001b[0mget_result\u001b[0m\u001b[0;34m(\u001b[0m\u001b[0;34m)\u001b[0m\u001b[0;34m\u001b[0m\u001b[0m\n\u001b[0m\u001b[1;32m   6015\u001b[0m \u001b[0;34m\u001b[0m\u001b[0m\n\u001b[1;32m   6016\u001b[0m     \u001b[0;32mdef\u001b[0m \u001b[0mapplymap\u001b[0m\u001b[0;34m(\u001b[0m\u001b[0mself\u001b[0m\u001b[0;34m,\u001b[0m \u001b[0mfunc\u001b[0m\u001b[0;34m)\u001b[0m\u001b[0;34m:\u001b[0m\u001b[0;34m\u001b[0m\u001b[0m\n",
      "\u001b[0;32m/Users/Bin/anaconda2/envs/py2/lib/python2.7/site-packages/pandas/core/apply.pyc\u001b[0m in \u001b[0;36mget_result\u001b[0;34m(self)\u001b[0m\n\u001b[1;32m    140\u001b[0m             \u001b[0;32mreturn\u001b[0m \u001b[0mself\u001b[0m\u001b[0;34m.\u001b[0m\u001b[0mapply_raw\u001b[0m\u001b[0;34m(\u001b[0m\u001b[0;34m)\u001b[0m\u001b[0;34m\u001b[0m\u001b[0m\n\u001b[1;32m    141\u001b[0m \u001b[0;34m\u001b[0m\u001b[0m\n\u001b[0;32m--> 142\u001b[0;31m         \u001b[0;32mreturn\u001b[0m \u001b[0mself\u001b[0m\u001b[0;34m.\u001b[0m\u001b[0mapply_standard\u001b[0m\u001b[0;34m(\u001b[0m\u001b[0;34m)\u001b[0m\u001b[0;34m\u001b[0m\u001b[0m\n\u001b[0m\u001b[1;32m    143\u001b[0m \u001b[0;34m\u001b[0m\u001b[0m\n\u001b[1;32m    144\u001b[0m     \u001b[0;32mdef\u001b[0m \u001b[0mapply_empty_result\u001b[0m\u001b[0;34m(\u001b[0m\u001b[0mself\u001b[0m\u001b[0;34m)\u001b[0m\u001b[0;34m:\u001b[0m\u001b[0;34m\u001b[0m\u001b[0m\n",
      "\u001b[0;32m/Users/Bin/anaconda2/envs/py2/lib/python2.7/site-packages/pandas/core/apply.pyc\u001b[0m in \u001b[0;36mapply_standard\u001b[0;34m(self)\u001b[0m\n\u001b[1;32m    240\u001b[0m                                           \u001b[0maxis\u001b[0m\u001b[0;34m=\u001b[0m\u001b[0mself\u001b[0m\u001b[0;34m.\u001b[0m\u001b[0maxis\u001b[0m\u001b[0;34m,\u001b[0m\u001b[0;34m\u001b[0m\u001b[0m\n\u001b[1;32m    241\u001b[0m                                           \u001b[0mdummy\u001b[0m\u001b[0;34m=\u001b[0m\u001b[0mdummy\u001b[0m\u001b[0;34m,\u001b[0m\u001b[0;34m\u001b[0m\u001b[0m\n\u001b[0;32m--> 242\u001b[0;31m                                           labels=labels)\n\u001b[0m\u001b[1;32m    243\u001b[0m                 \u001b[0;32mreturn\u001b[0m \u001b[0mself\u001b[0m\u001b[0;34m.\u001b[0m\u001b[0mobj\u001b[0m\u001b[0;34m.\u001b[0m\u001b[0m_constructor_sliced\u001b[0m\u001b[0;34m(\u001b[0m\u001b[0mresult\u001b[0m\u001b[0;34m,\u001b[0m \u001b[0mindex\u001b[0m\u001b[0;34m=\u001b[0m\u001b[0mlabels\u001b[0m\u001b[0;34m)\u001b[0m\u001b[0;34m\u001b[0m\u001b[0m\n\u001b[1;32m    244\u001b[0m             \u001b[0;32mexcept\u001b[0m \u001b[0mException\u001b[0m\u001b[0;34m:\u001b[0m\u001b[0;34m\u001b[0m\u001b[0m\n",
      "\u001b[0;32mpandas/_libs/reduction.pyx\u001b[0m in \u001b[0;36mpandas._libs.reduction.reduce\u001b[0;34m()\u001b[0m\n",
      "\u001b[0;32mpandas/_libs/reduction.pyx\u001b[0m in \u001b[0;36mpandas._libs.reduction.Reducer.get_result\u001b[0;34m()\u001b[0m\n",
      "\u001b[0;32m<ipython-input-136-c3da7249a81a>\u001b[0m in \u001b[0;36mlabel\u001b[0;34m(row)\u001b[0m\n\u001b[1;32m      3\u001b[0m         \u001b[0;32mreturn\u001b[0m \u001b[0;34m-\u001b[0m\u001b[0;36m1\u001b[0m\u001b[0;34m\u001b[0m\u001b[0m\n\u001b[1;32m      4\u001b[0m     \u001b[0;32mif\u001b[0m \u001b[0mrow\u001b[0m\u001b[0;34m[\u001b[0m\u001b[0;34m'Date'\u001b[0m\u001b[0;34m]\u001b[0m \u001b[0;34m!=\u001b[0m \u001b[0;34m'nan'\u001b[0m\u001b[0;34m:\u001b[0m\u001b[0;34m\u001b[0m\u001b[0m\n\u001b[0;32m----> 5\u001b[0;31m         \u001b[0mtd\u001b[0m \u001b[0;34m=\u001b[0m \u001b[0mpd\u001b[0m\u001b[0;34m.\u001b[0m\u001b[0mto_datetime\u001b[0m\u001b[0;34m(\u001b[0m\u001b[0mrow\u001b[0m\u001b[0;34m[\u001b[0m\u001b[0;34m'Date'\u001b[0m\u001b[0;34m]\u001b[0m\u001b[0;34m,\u001b[0m \u001b[0mformat\u001b[0m\u001b[0;34m=\u001b[0m\u001b[0;34m'%Y%m%d'\u001b[0m\u001b[0;34m)\u001b[0m \u001b[0;34m-\u001b[0m \u001b[0mpd\u001b[0m\u001b[0;34m.\u001b[0m\u001b[0mto_datetime\u001b[0m\u001b[0;34m(\u001b[0m\u001b[0mrow\u001b[0m\u001b[0;34m[\u001b[0m\u001b[0;34m'Date_received'\u001b[0m\u001b[0;34m]\u001b[0m\u001b[0;34m,\u001b[0m \u001b[0mformat\u001b[0m\u001b[0;34m=\u001b[0m\u001b[0;34m'%Y%m%d'\u001b[0m\u001b[0;34m)\u001b[0m\u001b[0;34m\u001b[0m\u001b[0m\n\u001b[0m\u001b[1;32m      6\u001b[0m         \u001b[0;32mif\u001b[0m \u001b[0mtd\u001b[0m \u001b[0;34m<=\u001b[0m \u001b[0mpd\u001b[0m\u001b[0;34m.\u001b[0m\u001b[0mTimedelta\u001b[0m\u001b[0;34m(\u001b[0m\u001b[0;36m15\u001b[0m\u001b[0;34m,\u001b[0m \u001b[0;34m'D'\u001b[0m\u001b[0;34m)\u001b[0m\u001b[0;34m:\u001b[0m\u001b[0;34m\u001b[0m\u001b[0m\n\u001b[1;32m      7\u001b[0m             \u001b[0;32mreturn\u001b[0m \u001b[0;36m1\u001b[0m\u001b[0;34m\u001b[0m\u001b[0m\n",
      "\u001b[0;32m/Users/Bin/anaconda2/envs/py2/lib/python2.7/site-packages/pandas/core/tools/datetimes.pyc\u001b[0m in \u001b[0;36mto_datetime\u001b[0;34m(arg, errors, dayfirst, yearfirst, utc, box, format, exact, unit, infer_datetime_format, origin, cache)\u001b[0m\n\u001b[1;32m    404\u001b[0m                 \"origin='julian'\".format(original=original))\n\u001b[1;32m    405\u001b[0m \u001b[0;34m\u001b[0m\u001b[0m\n\u001b[0;32m--> 406\u001b[0;31m     \u001b[0;32melif\u001b[0m \u001b[0morigin\u001b[0m \u001b[0;32mnot\u001b[0m \u001b[0;32min\u001b[0m \u001b[0;34m[\u001b[0m\u001b[0;34m'unix'\u001b[0m\u001b[0;34m,\u001b[0m \u001b[0;34m'julian'\u001b[0m\u001b[0;34m]\u001b[0m\u001b[0;34m:\u001b[0m\u001b[0;34m\u001b[0m\u001b[0m\n\u001b[0m\u001b[1;32m    407\u001b[0m \u001b[0;34m\u001b[0m\u001b[0m\n\u001b[1;32m    408\u001b[0m         \u001b[0;31m# arg must be a numeric\u001b[0m\u001b[0;34m\u001b[0m\u001b[0;34m\u001b[0m\u001b[0m\n",
      "\u001b[0;31mKeyboardInterrupt\u001b[0m: "
     ]
    }
   ],
   "source": [
    "def label(row):\n",
    "    if row['Date_received'] == 'nan':\n",
    "        return -1\n",
    "    if row['Date'] != 'nan':\n",
    "        td = pd.to_datetime(row['Date'], format='%Y%m%d') - pd.to_datetime(row['Date_received'], format='%Y%m%d')\n",
    "        if td <= pd.Timedelta(15, 'D'):\n",
    "            return 1\n",
    "    return 0\n",
    "dfoff['label'] = dfoff.apply(label, axis=1)"
   ]
  },
  {
   "cell_type": "code",
   "execution_count": null,
   "metadata": {},
   "outputs": [],
   "source": [
    "print(dfoff['label'].value_counts())"
   ]
  },
  {
   "cell_type": "markdown",
   "metadata": {},
   "source": [
    "很清晰地，正样本共有 64395 例，负样本共有 988887 例。显然，正负样本数量差别很大。这也是为什么会使用 AUC 作为模型性能评估标准的原因。"
   ]
  },
  {
   "cell_type": "markdown",
   "metadata": {},
   "source": [
    "## 建立模型\n",
    "接下来就是最主要的建立机器学习模型了。首先确定的是我们选择的特征是上面提取的 14 个特征，为了验证模型的性能，需要划分验证集进行模型验证，划分方式是按照领券日期，即训练集：20160101-20160515，验证集：20160516-20160615。我们采用的模型是简单的 SGDClassifier。\n",
    "\n",
    "### 1.划分训练集和验证集"
   ]
  },
  {
   "cell_type": "code",
   "execution_count": null,
   "metadata": {},
   "outputs": [],
   "source": [
    "# data split\n",
    "df = dfoff[dfoff['label'] != -1].copy()\n",
    "train = df[(df['Date_received'] < '20160516')].copy()\n",
    "valid = df[(df['Date_received'] >= '20160516') & (df['Date_received'] <= '20160615')].copy()\n",
    "print('Train Set: \\n', train['label'].value_counts())\n",
    "print('Valid Set: \\n', valid['label'].value_counts())"
   ]
  },
  {
   "cell_type": "code",
   "execution_count": null,
   "metadata": {},
   "outputs": [],
   "source": [
    "# feature\n",
    "original_feature = ['discount_rate','discount_type','discount_man', 'discount_jian','distance', 'weekday', 'weekday_type'] + weekdaycols\n",
    "print('共有特征：',len(original_feature),'个')\n",
    "print(original_feature)"
   ]
  },
  {
   "cell_type": "markdown",
   "metadata": {},
   "source": [
    "### 2. 构建模型"
   ]
  },
  {
   "cell_type": "code",
   "execution_count": null,
   "metadata": {},
   "outputs": [],
   "source": [
    "def check_model(data, predictors):\n",
    "    classifier = lambda: SGDClassifier(\n",
    "        loss='log',  # loss function: logistic regression\n",
    "        penalty='elasticnet', # L1 & L2\n",
    "        fit_intercept=True,  # 是否存在截距，默认存在\n",
    "        max_iter=100, \n",
    "        shuffle=True,  # Whether or not the training data should be shuffled after each epoch\n",
    "        n_jobs=1, # The number of processors to use\n",
    "        class_weight=None) # Weights associated with classes. If not given, all classes are supposed to have weight one.\n",
    "\n",
    "    # 管道机制使得参数集在新数据集（比如测试集）上的重复使用，管道机制实现了对全部步骤的流式化封装和管理。\n",
    "    model = Pipeline(steps=[\n",
    "        ('ss', StandardScaler()), # transformer\n",
    "        ('en', classifier())  # estimator\n",
    "    ])\n",
    "\n",
    "    parameters = {\n",
    "        'en__alpha': [ 0.001, 0.01, 0.1],\n",
    "        'en__l1_ratio': [ 0.001, 0.01, 0.1]\n",
    "    }\n",
    "\n",
    "    # StratifiedKFold用法类似Kfold，但是他是分层采样，确保训练集，测试集中各类别样本的比例与原始数据集中相同。\n",
    "    folder = StratifiedKFold(n_splits=3, shuffle=True)\n",
    "\n",
    "    # Exhaustive search over specified parameter values for an estimator.\n",
    "    grid_search = GridSearchCV(\n",
    "        model, \n",
    "        parameters, \n",
    "        cv=folder, \n",
    "        n_jobs=-1,  # -1 means using all processors\n",
    "        verbose=1)\n",
    "    grid_search = grid_search.fit(data[predictors], data['label'])\n",
    "\n",
    "    return grid_search"
   ]
  },
  {
   "cell_type": "markdown",
   "metadata": {},
   "source": [
    "模型采用的是 SGDClassifier，使用了 Python 中的 Pipeline 管道机制，可以使参数集在新数据集（比如测试集）上的重复使用，管道机制实现了对全部步骤的流式化封装和管理。交叉验证采用 StratifiedKFold，其用法类似 Kfold，但是 StratifiedKFold 是分层采样，确保训练集，测试集中各类别样本的比例与原始数据集中相同。\n",
    "\n",
    "### 3.训练\n",
    "\n",
    "接下来就可以使用该模型对训练集进行训练了，整个训练过程大概 1-2 分钟的时间。"
   ]
  },
  {
   "cell_type": "code",
   "execution_count": null,
   "metadata": {},
   "outputs": [],
   "source": [
    "predictors = original_feature\n",
    "model = check_model(train, predictors)"
   ]
  },
  {
   "cell_type": "markdown",
   "metadata": {},
   "source": [
    "### 4.验证\n",
    "\n",
    "然后对验证集中每个优惠券预测的结果计算 AUC，再对所有优惠券的 AUC 求平均。计算 AUC 的时候，如果 label 只有一类，就直接跳过，因为 AUC 无法计算。"
   ]
  },
  {
   "cell_type": "code",
   "execution_count": 137,
   "metadata": {},
   "outputs": [
    {
     "ename": "NameError",
     "evalue": "name 'model' is not defined",
     "output_type": "error",
     "traceback": [
      "\u001b[0;31m---------------------------------------------------------------------------\u001b[0m",
      "\u001b[0;31mNameError\u001b[0m                                 Traceback (most recent call last)",
      "\u001b[0;32m<ipython-input-137-fd641dcfa322>\u001b[0m in \u001b[0;36m<module>\u001b[0;34m()\u001b[0m\n\u001b[1;32m      1\u001b[0m \u001b[0;31m# valid predict\u001b[0m\u001b[0;34m\u001b[0m\u001b[0;34m\u001b[0m\u001b[0m\n\u001b[0;32m----> 2\u001b[0;31m \u001b[0my_valid_pred\u001b[0m \u001b[0;34m=\u001b[0m \u001b[0mmodel\u001b[0m\u001b[0;34m.\u001b[0m\u001b[0mpredict_proba\u001b[0m\u001b[0;34m(\u001b[0m\u001b[0mvalid\u001b[0m\u001b[0;34m[\u001b[0m\u001b[0mpredictors\u001b[0m\u001b[0;34m]\u001b[0m\u001b[0;34m)\u001b[0m\u001b[0;34m\u001b[0m\u001b[0m\n\u001b[0m\u001b[1;32m      3\u001b[0m \u001b[0mvalid1\u001b[0m \u001b[0;34m=\u001b[0m \u001b[0mvalid\u001b[0m\u001b[0;34m.\u001b[0m\u001b[0mcopy\u001b[0m\u001b[0;34m(\u001b[0m\u001b[0;34m)\u001b[0m\u001b[0;34m\u001b[0m\u001b[0m\n\u001b[1;32m      4\u001b[0m \u001b[0mvalid1\u001b[0m\u001b[0;34m[\u001b[0m\u001b[0;34m'pred_prob'\u001b[0m\u001b[0;34m]\u001b[0m \u001b[0;34m=\u001b[0m \u001b[0my_valid_pred\u001b[0m\u001b[0;34m[\u001b[0m\u001b[0;34m:\u001b[0m\u001b[0;34m,\u001b[0m \u001b[0;36m1\u001b[0m\u001b[0;34m]\u001b[0m\u001b[0;34m\u001b[0m\u001b[0m\n\u001b[1;32m      5\u001b[0m \u001b[0mvalid1\u001b[0m\u001b[0;34m.\u001b[0m\u001b[0mhead\u001b[0m\u001b[0;34m(\u001b[0m\u001b[0;36m5\u001b[0m\u001b[0;34m)\u001b[0m\u001b[0;34m\u001b[0m\u001b[0m\n",
      "\u001b[0;31mNameError\u001b[0m: name 'model' is not defined"
     ]
    }
   ],
   "source": [
    "# valid predict\n",
    "y_valid_pred = model.predict_proba(valid[predictors])\n",
    "valid1 = valid.copy()\n",
    "valid1['pred_prob'] = y_valid_pred[:, 1]\n",
    "valid1.head(5)"
   ]
  },
  {
   "cell_type": "markdown",
   "metadata": {},
   "source": [
    "注意这里得到的结果 pred_prob 是概率值（预测样本属于正类的概率）。\n",
    "\n",
    "最后，就可以对验证集计算 AUC。直接调用 sklearn 库自带的计算 AUC 函数即可。"
   ]
  },
  {
   "cell_type": "code",
   "execution_count": 139,
   "metadata": {},
   "outputs": [
    {
     "ename": "NameError",
     "evalue": "name 'valid1' is not defined",
     "output_type": "error",
     "traceback": [
      "\u001b[0;31m---------------------------------------------------------------------------\u001b[0m",
      "\u001b[0;31mNameError\u001b[0m                                 Traceback (most recent call last)",
      "\u001b[0;32m<ipython-input-139-a0967c8e258b>\u001b[0m in \u001b[0;36m<module>\u001b[0;34m()\u001b[0m\n\u001b[1;32m      1\u001b[0m \u001b[0;31m# avgAUC calculation\u001b[0m\u001b[0;34m\u001b[0m\u001b[0;34m\u001b[0m\u001b[0m\n\u001b[0;32m----> 2\u001b[0;31m \u001b[0mvg\u001b[0m \u001b[0;34m=\u001b[0m \u001b[0mvalid1\u001b[0m\u001b[0;34m.\u001b[0m\u001b[0mgroupby\u001b[0m\u001b[0;34m(\u001b[0m\u001b[0;34m[\u001b[0m\u001b[0;34m'Coupon_id'\u001b[0m\u001b[0;34m]\u001b[0m\u001b[0;34m)\u001b[0m\u001b[0;34m\u001b[0m\u001b[0m\n\u001b[0m\u001b[1;32m      3\u001b[0m \u001b[0maucs\u001b[0m \u001b[0;34m=\u001b[0m \u001b[0;34m[\u001b[0m\u001b[0;34m]\u001b[0m\u001b[0;34m\u001b[0m\u001b[0m\n\u001b[1;32m      4\u001b[0m \u001b[0;32mfor\u001b[0m \u001b[0mi\u001b[0m \u001b[0;32min\u001b[0m \u001b[0mvg\u001b[0m\u001b[0;34m:\u001b[0m\u001b[0;34m\u001b[0m\u001b[0m\n\u001b[1;32m      5\u001b[0m    \u001b[0mtmpdf\u001b[0m \u001b[0;34m=\u001b[0m \u001b[0mi\u001b[0m\u001b[0;34m[\u001b[0m\u001b[0;36m1\u001b[0m\u001b[0;34m]\u001b[0m\u001b[0;34m\u001b[0m\u001b[0m\n",
      "\u001b[0;31mNameError\u001b[0m: name 'valid1' is not defined"
     ]
    }
   ],
   "source": [
    "# avgAUC calculation\n",
    "vg = valid1.groupby(['Coupon_id'])\n",
    "aucs = []\n",
    "for i in vg:\n",
    "   tmpdf = i[1] \n",
    "   if len(tmpdf['label'].unique()) != 2:\n",
    "       continue\n",
    "   fpr, tpr, thresholds = roc_curve(tmpdf['label'], tmpdf['pred_prob'], pos_label=1)\n",
    "   aucs.append(auc(fpr, tpr))\n",
    "print(np.average(aucs))"
   ]
  },
  {
   "cell_type": "markdown",
   "metadata": {},
   "source": [
    "最终得到的 AUC 就等于 0.53。\n",
    "\n",
    "## 测试\n",
    "训练完模型之后，就是使用训练好的模型对测试集进行测试了。并且将测试得到的结果（概率值）按照规定的格式保存成一个 .csv 文件。"
   ]
  },
  {
   "cell_type": "code",
   "execution_count": 140,
   "metadata": {},
   "outputs": [
    {
     "ename": "NameError",
     "evalue": "name 'model' is not defined",
     "output_type": "error",
     "traceback": [
      "\u001b[0;31m---------------------------------------------------------------------------\u001b[0m",
      "\u001b[0;31mNameError\u001b[0m                                 Traceback (most recent call last)",
      "\u001b[0;32m<ipython-input-140-33dcdd12deb9>\u001b[0m in \u001b[0;36m<module>\u001b[0;34m()\u001b[0m\n\u001b[1;32m      1\u001b[0m \u001b[0;31m# test prediction for submission\u001b[0m\u001b[0;34m\u001b[0m\u001b[0;34m\u001b[0m\u001b[0m\n\u001b[0;32m----> 2\u001b[0;31m \u001b[0my_test_pred\u001b[0m \u001b[0;34m=\u001b[0m \u001b[0mmodel\u001b[0m\u001b[0;34m.\u001b[0m\u001b[0mpredict_proba\u001b[0m\u001b[0;34m(\u001b[0m\u001b[0mdftest\u001b[0m\u001b[0;34m[\u001b[0m\u001b[0mpredictors\u001b[0m\u001b[0;34m]\u001b[0m\u001b[0;34m)\u001b[0m\u001b[0;34m\u001b[0m\u001b[0m\n\u001b[0m\u001b[1;32m      3\u001b[0m \u001b[0mdftest1\u001b[0m \u001b[0;34m=\u001b[0m \u001b[0mdftest\u001b[0m\u001b[0;34m[\u001b[0m\u001b[0;34m[\u001b[0m\u001b[0;34m'User_id'\u001b[0m\u001b[0;34m,\u001b[0m\u001b[0;34m'Coupon_id'\u001b[0m\u001b[0;34m,\u001b[0m\u001b[0;34m'Date_received'\u001b[0m\u001b[0;34m]\u001b[0m\u001b[0;34m]\u001b[0m\u001b[0;34m.\u001b[0m\u001b[0mcopy\u001b[0m\u001b[0;34m(\u001b[0m\u001b[0;34m)\u001b[0m\u001b[0;34m\u001b[0m\u001b[0m\n\u001b[1;32m      4\u001b[0m \u001b[0mdftest1\u001b[0m\u001b[0;34m[\u001b[0m\u001b[0;34m'Probability'\u001b[0m\u001b[0;34m]\u001b[0m \u001b[0;34m=\u001b[0m \u001b[0my_test_pred\u001b[0m\u001b[0;34m[\u001b[0m\u001b[0;34m:\u001b[0m\u001b[0;34m,\u001b[0m\u001b[0;36m1\u001b[0m\u001b[0;34m]\u001b[0m\u001b[0;34m\u001b[0m\u001b[0m\n\u001b[1;32m      5\u001b[0m \u001b[0mdftest1\u001b[0m\u001b[0;34m.\u001b[0m\u001b[0mto_csv\u001b[0m\u001b[0;34m(\u001b[0m\u001b[0;34m'submit.csv'\u001b[0m\u001b[0;34m,\u001b[0m \u001b[0mindex\u001b[0m\u001b[0;34m=\u001b[0m\u001b[0mFalse\u001b[0m\u001b[0;34m,\u001b[0m \u001b[0mheader\u001b[0m\u001b[0;34m=\u001b[0m\u001b[0mFalse\u001b[0m\u001b[0;34m)\u001b[0m\u001b[0;34m\u001b[0m\u001b[0m\n",
      "\u001b[0;31mNameError\u001b[0m: name 'model' is not defined"
     ]
    }
   ],
   "source": [
    "# test prediction for submission\n",
    "y_test_pred = model.predict_proba(dftest[predictors])\n",
    "dftest1 = dftest[['User_id','Coupon_id','Date_received']].copy()\n",
    "dftest1['Probability'] = y_test_pred[:,1]\n",
    "dftest1.to_csv('submit.csv', index=False, header=False)\n",
    "dftest1.head(5)"
   ]
  },
  {
   "cell_type": "code",
   "execution_count": null,
   "metadata": {},
   "outputs": [],
   "source": [
    "from IPython.core.display import display, HTML\n",
    "display(HTML(r\"\"\"<style id=hide>div.input{display:none;}</style><button type=\"button\"onclick=\"var myStyle = document.getElementById('hide').sheet;myStyle.insertRule('div.input{display:inherit !important;}', 0);\">Show inputs</button>\"\"\"))"
   ]
  },
  {
   "cell_type": "code",
   "execution_count": null,
   "metadata": {},
   "outputs": [],
   "source": [
    "# 线上数据处理汇总\n",
    "\n",
    "# 备份 Date_received 用在预测 submission 文件里\n",
    "Date_received = dftest['Date_received'].copy()\n",
    "\n",
    "# 将折扣率转化到 [0,1]\n",
    "dftest['Discount_rate'] = dftest['Discount_rate'].apply(get_Discount_rate)\n",
    "\n",
    "# 获取目标变量\n",
    "# dftest['target'] = 0\n",
    "# dftest.loc[(dftest['Date_received'].notna()) & (dftest['Date'].notna()), 'target'] = 1\n",
    "\n",
    "# 处理缺失值\n",
    "dftest['Discount_rate'].fillna(0, inplace=True)\n",
    "dftest['Distance'].fillna(dftest['Distance'].median(), inplace=True)\n",
    "dftest['Date_received'].fillna(0, inplace=True)\n",
    "# dftest['Date'].fillna(0, inplace=True)\n",
    "\n",
    "# 处理时间类型的特征\n",
    "## 先做了 labelencoder\n",
    "from sklearn.preprocessing import LabelEncoder\n",
    "dftest['Date_received'] = LabelEncoder().fit_transform(dftest['Date_received'])\n",
    "# dftest['Date'] = LabelEncoder().fit_transform(dftest['Date'])\n",
    "\n",
    "## 然后做 scale，方便模型处理\n",
    "from sklearn.preprocessing import MinMaxScaler \n",
    "dftest['Date_received'] = MinMaxScaler().fit_transform(dftest['Date_received'].values.reshape(-1, 1))\n",
    "# dftest['Date'] = MinMaxScaler().fit_transform(dftest['Date'].values.reshape(-1, 1))\n",
    "\n",
    "# 归一化距离\n",
    "dftest['Distance'] = MinMaxScaler().fit_transform(dftest['Distance'].values.reshape(-1, 1))"
   ]
  }
 ],
 "metadata": {
  "kernelspec": {
   "display_name": "Python Conda",
   "language": "/Users/Bin/anaconda2/envs/py2/bin/python",
   "name": "python_conda"
  },
  "language_info": {
   "codemirror_mode": {
    "name": "ipython",
    "version": 2
   },
   "file_extension": ".py",
   "mimetype": "text/x-python",
   "name": "python",
   "nbconvert_exporter": "python",
   "pygments_lexer": "ipython2",
   "version": "2.7.15"
  }
 },
 "nbformat": 4,
 "nbformat_minor": 2
}
